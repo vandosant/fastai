{
 "cells": [
  {
   "cell_type": "markdown",
   "metadata": {},
   "source": [
    "# Image classification with Convolutional Neural Networks"
   ]
  },
  {
   "cell_type": "code",
   "execution_count": 1,
   "metadata": {},
   "outputs": [
    {
     "name": "stdout",
     "output_type": "stream",
     "text": [
      "Python 3.6.5 :: Anaconda, Inc.\r\n"
     ]
    }
   ],
   "source": [
    "!python -V"
   ]
  },
  {
   "cell_type": "code",
   "execution_count": 2,
   "metadata": {},
   "outputs": [],
   "source": [
    "%reload_ext autoreload\n",
    "%autoreload 2\n",
    "%matplotlib inline"
   ]
  },
  {
   "cell_type": "code",
   "execution_count": 3,
   "metadata": {},
   "outputs": [],
   "source": [
    "from fastai.imports import *\n",
    "from fastai.transforms import *\n",
    "from fastai.conv_learner import *\n",
    "from fastai.model import *\n",
    "from fastai.dataset import *\n",
    "from fastai.sgdr import *\n",
    "from fastai.plots import *"
   ]
  },
  {
   "cell_type": "code",
   "execution_count": 4,
   "metadata": {},
   "outputs": [
    {
     "data": {
      "text/plain": [
       "True"
      ]
     },
     "execution_count": 4,
     "metadata": {},
     "output_type": "execute_result"
    }
   ],
   "source": [
    "torch.cuda.is_available()"
   ]
  },
  {
   "cell_type": "code",
   "execution_count": 5,
   "metadata": {},
   "outputs": [
    {
     "data": {
      "text/plain": [
       "True"
      ]
     },
     "execution_count": 5,
     "metadata": {},
     "output_type": "execute_result"
    }
   ],
   "source": [
    "torch.backends.cudnn.enabled"
   ]
  },
  {
   "cell_type": "markdown",
   "metadata": {},
   "source": [
    "# Import data"
   ]
  },
  {
   "cell_type": "code",
   "execution_count": 35,
   "metadata": {},
   "outputs": [],
   "source": [
    "import json\n",
    "import kaggle_imaterialist_furniture\n",
    "from collections import defaultdict"
   ]
  },
  {
   "cell_type": "code",
   "execution_count": 7,
   "metadata": {},
   "outputs": [],
   "source": [
    "PATH = \"data/imaterialist-challenge-furniture-2018\""
   ]
  },
  {
   "cell_type": "code",
   "execution_count": 8,
   "metadata": {},
   "outputs": [],
   "source": [
    "# !kaggle competitions download -c 'imaterialist-challenge-furniture-2018' -p {PATH}"
   ]
  },
  {
   "cell_type": "code",
   "execution_count": 9,
   "metadata": {},
   "outputs": [
    {
     "name": "stdout",
     "output_type": "stream",
     "text": [
      "sample_submission_randomlabel.csv  train       validation.json\r\n",
      "test.json\t\t\t   train.json\r\n"
     ]
    }
   ],
   "source": [
    "!ls {PATH}"
   ]
  },
  {
   "cell_type": "markdown",
   "metadata": {},
   "source": [
    "### Train images"
   ]
  },
  {
   "cell_type": "code",
   "execution_count": null,
   "metadata": {},
   "outputs": [],
   "source": [
    "with open(f'{PATH}/train.json') as json_data:\n",
    "    train_data = json.load(json_data)"
   ]
  },
  {
   "cell_type": "code",
   "execution_count": 11,
   "metadata": {},
   "outputs": [
    {
     "data": {
      "text/plain": [
       "dict_keys(['images', 'annotations'])"
      ]
     },
     "execution_count": 11,
     "metadata": {},
     "output_type": "execute_result"
    }
   ],
   "source": [
    "train_data.keys()"
   ]
  },
  {
   "cell_type": "code",
   "execution_count": 67,
   "metadata": {},
   "outputs": [],
   "source": [
    "train_img_path = f'{PATH}/train'\n",
    "os.makedirs(train_img_path, exist_ok=True)"
   ]
  },
  {
   "cell_type": "code",
   "execution_count": 14,
   "metadata": {},
   "outputs": [],
   "source": [
    "image_labels = {}\n",
    "labels = set()\n",
    "for img in train_data['annotations']:\n",
    "    image_labels[img['image_id']] = img['label_id']\n",
    "    labels.add(img['label_id'])"
   ]
  },
  {
   "cell_type": "code",
   "execution_count": 15,
   "metadata": {},
   "outputs": [
    {
     "data": {
      "text/plain": [
       "194828"
      ]
     },
     "execution_count": 15,
     "metadata": {},
     "output_type": "execute_result"
    }
   ],
   "source": [
    "len(image_labels)"
   ]
  },
  {
   "cell_type": "code",
   "execution_count": 16,
   "metadata": {},
   "outputs": [
    {
     "data": {
      "text/plain": [
       "128"
      ]
     },
     "execution_count": 16,
     "metadata": {},
     "output_type": "execute_result"
    }
   ],
   "source": [
    "len(labels)"
   ]
  },
  {
   "cell_type": "code",
   "execution_count": 69,
   "metadata": {
    "scrolled": true
   },
   "outputs": [
    {
     "name": "stdout",
     "output_type": "stream",
     "text": [
      "1    106  113  120  128  2   27  34  41  49  56  63  70  78  85  92\r\n",
      "10   107  114  121  13\t 20  28  35  42  5   57  64  71  79  86  93\r\n",
      "100  108  115  122  14\t 21  29  36  43  50  58  65  72  8   87  94\r\n",
      "101  109  116  123  15\t 22  3\t 37  44  51  59  66  73  80  88  95\r\n",
      "102  11   117  124  16\t 23  30  38  45  52  6\t 67  74  81  89  96\r\n",
      "103  110  118  125  17\t 24  31  39  46  53  60  68  75  82  9\t 97\r\n",
      "104  111  119  126  18\t 25  32  4   47  54  61  69  76  83  90  98\r\n",
      "105  112  12   127  19\t 26  33  40  48  55  62  7   77  84  91  99\r\n"
     ]
    }
   ],
   "source": [
    "!ls {train_img_path}"
   ]
  },
  {
   "cell_type": "code",
   "execution_count": 70,
   "metadata": {},
   "outputs": [
    {
     "name": "stdout",
     "output_type": "stream",
     "text": [
      "https://img13.360buyimg.com/imgzone/jfs/t2857/351/510705008/279959/4e27dce0/57171f60N523c940e.jpg\n",
      "getting data/imaterialist-challenge-furniture-2018/train/5/1.jpg\n",
      "http://www.tengdakeli.cn/350/timg01/uploaded/i1/12034027012625145/T1pFCtFbVcXXXXXXXX_%21%210-item_pic.jpg\n",
      "getting data/imaterialist-challenge-furniture-2018/train/5/2.jpg\n",
      "failed to get data/imaterialist-challenge-furniture-2018/train/5/2.jpg\n",
      "https://img13.360buyimg.com/imgzone/jfs/t8899/250/980951973/79501/43f4f687/59b25f42N52ee2b0c.jpg\n",
      "getting data/imaterialist-challenge-furniture-2018/train/5/3.jpg\n",
      "http://img4.tbcdn.cn/tfscom/i1/2855447419/TB2SJwwdxeK.eBjSZFlXXaywXXa_!!2855447419.jpg\n",
      "getting data/imaterialist-challenge-furniture-2018/train/5/4.jpg\n",
      "http://a.vpimg4.com/upload/merchandise/287883/QQI-390870207-1.jpg\n",
      "getting data/imaterialist-challenge-furniture-2018/train/5/5.jpg\n",
      "https://img.alicdn.com/imgextra/TB1HoBuHFXXXXXOXFXXXXXXXXXX_!!0-item_pic.jpg\n",
      "getting data/imaterialist-challenge-furniture-2018/train/5/6.jpg\n"
     ]
    }
   ],
   "source": [
    "test_count = 5\n",
    "count = 0\n",
    "for image in train_data['images']:\n",
    "    url = image['url'][0]\n",
    "    id = image['image_id']\n",
    "    print(url)\n",
    "    file_path = f'{train_img_path}/{image_labels[id]}/{id}.jpg'\n",
    "    os.makedirs(f'{train_img_path}/{image_labels[id]}', exist_ok=True)\n",
    "    if os.path.isfile(file_path):\n",
    "        print(f'skipping {file_path}')\n",
    "    else:\n",
    "        print(f'getting {file_path}')\n",
    "        kaggle_imaterialist_furniture.save_remote_image(url, file_path)\n",
    "\n",
    "    count = count + 1\n",
    "    if count > test_count:\n",
    "        break"
   ]
  },
  {
   "cell_type": "markdown",
   "metadata": {},
   "source": [
    "### Validation images"
   ]
  },
  {
   "cell_type": "code",
   "execution_count": 26,
   "metadata": {},
   "outputs": [],
   "source": [
    "with open(f'{PATH}/validation.json') as json_data:\n",
    "    validation_data = json.load(json_data)"
   ]
  },
  {
   "cell_type": "code",
   "execution_count": 27,
   "metadata": {},
   "outputs": [
    {
     "data": {
      "text/plain": [
       "dict_keys(['images', 'annotations'])"
      ]
     },
     "execution_count": 27,
     "metadata": {},
     "output_type": "execute_result"
    }
   ],
   "source": [
    "validation_data.keys()"
   ]
  },
  {
   "cell_type": "code",
   "execution_count": 73,
   "metadata": {},
   "outputs": [],
   "source": [
    "validation_path = f'{PATH}/valid'\n",
    "os.makedirs(train_img_path, exist_ok=True)"
   ]
  },
  {
   "cell_type": "code",
   "execution_count": 29,
   "metadata": {},
   "outputs": [],
   "source": [
    "validation_image_labels = {}\n",
    "validation_labels = set()\n",
    "for img in validation_data['annotations']:\n",
    "    validation_image_labels[img['image_id']] = img['label_id']\n",
    "    validation_labels.add(img['label_id'])"
   ]
  },
  {
   "cell_type": "code",
   "execution_count": 30,
   "metadata": {},
   "outputs": [
    {
     "data": {
      "text/plain": [
       "6400"
      ]
     },
     "execution_count": 30,
     "metadata": {},
     "output_type": "execute_result"
    }
   ],
   "source": [
    "len(validation_image_labels)"
   ]
  },
  {
   "cell_type": "code",
   "execution_count": 31,
   "metadata": {},
   "outputs": [
    {
     "data": {
      "text/plain": [
       "128"
      ]
     },
     "execution_count": 31,
     "metadata": {},
     "output_type": "execute_result"
    }
   ],
   "source": [
    "len(validation_labels)"
   ]
  },
  {
   "cell_type": "code",
   "execution_count": 74,
   "metadata": {},
   "outputs": [
    {
     "name": "stdout",
     "output_type": "stream",
     "text": [
      "http://www.ghs.net/public/images/fb/3d/51/3bebd41a640b6d3278e781c86ab67d6401a48633.jpg\n",
      "getting data/imaterialist-challenge-furniture-2018/valid/38/1.jpg\n",
      "https://img.alicdn.com/imgextra/TB2chFei9YH8KJjSspdXXcRgVXa_!!3085441904.jpg\n",
      "getting data/imaterialist-challenge-furniture-2018/valid/63/2.jpg\n",
      "http://static-news.17house.com/web/news/201602/26/201602261523152152.jpg\n",
      "getting data/imaterialist-challenge-furniture-2018/valid/33/3.jpg\n",
      "http://img000.hc360.cn/g6/M07/CB/88/wKhQsFNNVJuETI19AAAAAAjH3FE605.jpg\n",
      "getting data/imaterialist-challenge-furniture-2018/valid/126/4.jpg\n",
      "https://img.alicdn.com/imgextra/T1sLtpFH8aXXXXXXXX_!!0-item_pic.jpg\n",
      "getting data/imaterialist-challenge-furniture-2018/valid/18/5.jpg\n",
      "https://img.alicdn.com/imgextra/TB2xKYDhFXXXXXNXpXXXXXXXXXX_!!1581515815.jpg\n",
      "getting data/imaterialist-challenge-furniture-2018/valid/125/6.jpg\n"
     ]
    }
   ],
   "source": [
    "test_count = 5\n",
    "count = 0\n",
    "for image in validation_data['images']:\n",
    "    url = image['url'][0]\n",
    "    id = image['image_id']\n",
    "    print(url)\n",
    "    file_path = f'{validation_path}/{validation_image_labels[id]}/{id}.jpg'\n",
    "    os.makedirs(f'{validation_path}/{validation_image_labels[id]}', exist_ok=True)\n",
    "    if os.path.isfile(file_path):\n",
    "        print(f'skipping {file_path}')\n",
    "    else:\n",
    "        print(f'getting {file_path}')\n",
    "        kaggle_imaterialist_furniture.save_remote_image(url, file_path)\n",
    "\n",
    "    count = count + 1\n",
    "    if count > test_count:\n",
    "        break"
   ]
  },
  {
   "cell_type": "markdown",
   "metadata": {},
   "source": [
    "# Look at images"
   ]
  },
  {
   "cell_type": "code",
   "execution_count": 37,
   "metadata": {},
   "outputs": [
    {
     "data": {
      "text/plain": [
       "['test.json',\n",
       " 'train.json',\n",
       " 'validation.json',\n",
       " 'valid',\n",
       " 'train',\n",
       " 'sample_submission_randomlabel.csv']"
      ]
     },
     "execution_count": 37,
     "metadata": {},
     "output_type": "execute_result"
    }
   ],
   "source": [
    "os.listdir(PATH)"
   ]
  },
  {
   "cell_type": "code",
   "execution_count": 39,
   "metadata": {},
   "outputs": [
    {
     "data": {
      "text/plain": [
       "['1',\n",
       " '10',\n",
       " '100',\n",
       " '101',\n",
       " '102',\n",
       " '103',\n",
       " '104',\n",
       " '105',\n",
       " '106',\n",
       " '107',\n",
       " '108',\n",
       " '109',\n",
       " '11',\n",
       " '110',\n",
       " '111',\n",
       " '112',\n",
       " '113',\n",
       " '114',\n",
       " '115',\n",
       " '116',\n",
       " '117',\n",
       " '118',\n",
       " '119',\n",
       " '12',\n",
       " '120',\n",
       " '121',\n",
       " '122',\n",
       " '123',\n",
       " '124',\n",
       " '125',\n",
       " '126',\n",
       " '127',\n",
       " '128',\n",
       " '13',\n",
       " '14',\n",
       " '15',\n",
       " '16',\n",
       " '17',\n",
       " '18',\n",
       " '19',\n",
       " '2',\n",
       " '20',\n",
       " '21',\n",
       " '22',\n",
       " '23',\n",
       " '24',\n",
       " '25',\n",
       " '26',\n",
       " '27',\n",
       " '28',\n",
       " '29',\n",
       " '3',\n",
       " '30',\n",
       " '31',\n",
       " '32',\n",
       " '33',\n",
       " '34',\n",
       " '35',\n",
       " '36',\n",
       " '37',\n",
       " '38',\n",
       " '39',\n",
       " '4',\n",
       " '40',\n",
       " '41',\n",
       " '42',\n",
       " '43',\n",
       " '44',\n",
       " '45',\n",
       " '46',\n",
       " '47',\n",
       " '48',\n",
       " '49',\n",
       " '5',\n",
       " '50',\n",
       " '51',\n",
       " '52',\n",
       " '53',\n",
       " '54',\n",
       " '55',\n",
       " '56',\n",
       " '57',\n",
       " '58',\n",
       " '59',\n",
       " '6',\n",
       " '60',\n",
       " '61',\n",
       " '62',\n",
       " '63',\n",
       " '64',\n",
       " '65',\n",
       " '66',\n",
       " '67',\n",
       " '68',\n",
       " '69',\n",
       " '7',\n",
       " '70',\n",
       " '71',\n",
       " '72',\n",
       " '73',\n",
       " '74',\n",
       " '75',\n",
       " '76',\n",
       " '77',\n",
       " '78',\n",
       " '79',\n",
       " '8',\n",
       " '80',\n",
       " '81',\n",
       " '82',\n",
       " '83',\n",
       " '84',\n",
       " '85',\n",
       " '86',\n",
       " '87',\n",
       " '88',\n",
       " '89',\n",
       " '9',\n",
       " '90',\n",
       " '91',\n",
       " '92',\n",
       " '93',\n",
       " '94',\n",
       " '95',\n",
       " '96',\n",
       " '97',\n",
       " '98',\n",
       " '99']"
      ]
     },
     "execution_count": 39,
     "metadata": {},
     "output_type": "execute_result"
    }
   ],
   "source": [
    "sorted(os.listdir(f'{PATH}/valid'))"
   ]
  },
  {
   "cell_type": "code",
   "execution_count": 41,
   "metadata": {},
   "outputs": [
    {
     "data": {
      "text/plain": [
       "['426.jpg', '29.jpg', '50.jpg', '103.jpg', '30.jpg']"
      ]
     },
     "execution_count": 41,
     "metadata": {},
     "output_type": "execute_result"
    }
   ],
   "source": [
    "files = os.listdir(f'{PATH}/valid/1')[:5]\n",
    "files"
   ]
  },
  {
   "cell_type": "code",
   "execution_count": 54,
   "metadata": {},
   "outputs": [
    {
     "data": {
      "image/png": "[encoded data removed]",
      "text/plain": [
       "<Figure size 432x288 with 1 Axes>"
      ]
     },
     "metadata": {},
     "output_type": "display_data"
    }
   ],
   "source": [
    "img = plt.imread(f'data/imaterialist-challenge-furniture-2018/train/5/213.jpg')\n",
    "plt.imshow(img);"
   ]
  },
  {
   "cell_type": "code",
   "execution_count": 47,
   "metadata": {},
   "outputs": [
    {
     "data": {
      "text/plain": [
       "(666, 1000, 3)"
      ]
     },
     "execution_count": 47,
     "metadata": {},
     "output_type": "execute_result"
    }
   ],
   "source": [
    "img.shape"
   ]
  },
  {
   "cell_type": "markdown",
   "metadata": {},
   "source": [
    "# First model"
   ]
  },
  {
   "cell_type": "code",
   "execution_count": 75,
   "metadata": {},
   "outputs": [
    {
     "name": "stdout",
     "output_type": "stream",
     "text": [
      "\n",
      "100%|██████████| 1/1 [00:00<00:00,  7.71it/s]\n"
     ]
    },
    {
     "data": {
      "application/vnd.jupyter.widget-view+json": {
       "model_id": "88efba450a5547b2a36c41ceb04a2173",
       "version_major": 2,
       "version_minor": 0
      },
      "text/plain": [
       "HBox(children=(IntProgress(value=0, description='Epoch', max=2), HTML(value='')))"
      ]
     },
     "metadata": {},
     "output_type": "display_data"
    },
    {
     "name": "stdout",
     "output_type": "stream",
     "text": [
      "epoch      trn_loss   val_loss   accuracy               \n",
      "    0      4.610339   5.578855   0.0       \n",
      "    1      5.260495   5.217265   0.0            \n",
      "\n"
     ]
    },
    {
     "data": {
      "text/plain": [
       "[array([5.21726]), 0.0]"
      ]
     },
     "execution_count": 75,
     "metadata": {},
     "output_type": "execute_result"
    }
   ],
   "source": [
    "sz = 224\n",
    "arch = resnet34\n",
    "data = ImageClassifierData.from_paths(f'{PATH}/', tfms=tfms_from_model(arch, sz))\n",
    "learn = ConvLearner.pretrained(arch, data, precompute=True)\n",
    "learn.fit(0.01, 2)"
   ]
  },
  {
   "cell_type": "code",
   "execution_count": null,
   "metadata": {},
   "outputs": [],
   "source": []
  }
 ],
 "metadata": {
  "kernelspec": {
   "display_name": "Python 3",
   "language": "python",
   "name": "python3"
  },
  "language_info": {
   "codemirror_mode": {
    "name": "ipython",
    "version": 3
   },
   "file_extension": ".py",
   "mimetype": "text/x-python",
   "name": "python",
   "nbconvert_exporter": "python",
   "pygments_lexer": "ipython3",
   "version": "3.6.5"
  }
 },
 "nbformat": 4,
 "nbformat_minor": 2
}
