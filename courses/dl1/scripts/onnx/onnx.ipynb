{
 "cells": [
  {
   "cell_type": "code",
   "execution_count": 20,
   "metadata": {},
   "outputs": [],
   "source": [
    "!ln -s ../../fastai fastai"
   ]
  },
  {
   "cell_type": "code",
   "execution_count": 2,
   "metadata": {},
   "outputs": [],
   "source": [
    "!. venv/bin/activate"
   ]
  },
  {
   "cell_type": "code",
   "execution_count": 5,
   "metadata": {},
   "outputs": [
    {
     "name": "stdout",
     "output_type": "stream",
     "text": [
      "Requirement already satisfied: numpy in /opt/conda/envs/fastai/lib/python3.6/site-packages (1.15.1)\n",
      "Requirement already satisfied: torch in /opt/conda/envs/fastai/lib/python3.6/site-packages (0.3.1.post2)\n",
      "Requirement already satisfied: torchvision in /opt/conda/envs/fastai/lib/python3.6/site-packages (0.2.1)\n",
      "Requirement already satisfied: pyyaml in /opt/conda/envs/fastai/lib/python3.6/site-packages (from torch) (3.12)\n",
      "Requirement already satisfied: six in /opt/conda/envs/fastai/lib/python3.6/site-packages (from torchvision) (1.11.0)\n",
      "Requirement already satisfied: pillow>=4.1.1 in /opt/conda/envs/fastai/lib/python3.6/site-packages (from torchvision) (5.3.0)\n"
     ]
    }
   ],
   "source": [
    "!pip install numpy torch torchvision"
   ]
  },
  {
   "cell_type": "code",
   "execution_count": 4,
   "metadata": {},
   "outputs": [
    {
     "name": "stdout",
     "output_type": "stream",
     "text": [
      "Requirement already satisfied: onnx in /opt/conda/envs/fastai/lib/python3.6/site-packages (1.3.0)\n",
      "Requirement already satisfied: numpy in /opt/conda/envs/fastai/lib/python3.6/site-packages (from onnx) (1.15.1)\n",
      "Requirement already satisfied: typing-extensions>=3.6.2.1 in /opt/conda/envs/fastai/lib/python3.6/site-packages (from onnx) (3.6.6)\n",
      "Requirement already satisfied: typing>=3.6.4 in /opt/conda/envs/fastai/lib/python3.6/site-packages (from onnx) (3.6.6)\n",
      "Requirement already satisfied: six in /opt/conda/envs/fastai/lib/python3.6/site-packages (from onnx) (1.11.0)\n",
      "Requirement already satisfied: protobuf in /opt/conda/envs/fastai/lib/python3.6/site-packages (from onnx) (3.6.1)\n",
      "Requirement already satisfied: setuptools in /opt/conda/envs/fastai/lib/python3.6/site-packages (from protobuf->onnx) (40.6.2)\n"
     ]
    }
   ],
   "source": [
    "!pip install onnx"
   ]
  },
  {
   "cell_type": "code",
   "execution_count": 12,
   "metadata": {},
   "outputs": [
    {
     "name": "stdout",
     "output_type": "stream",
     "text": [
      "Collecting torch==0.4\n",
      "\u001b[33m  Retrying (Retry(total=4, connect=None, read=None, redirect=None, status=None)) after connection broken by 'ReadTimeoutError(\"HTTPSConnectionPool(host='files.pythonhosted.org', port=443): Read timed out. (read timeout=15)\",)': /packages/69/43/380514bd9663f1bf708abeb359b8b48d3fabb1c8e95bb3427a980a064c57/torch-0.4.0-cp36-cp36m-manylinux1_x86_64.whl\u001b[0m\n",
      "\u001b[?25l  Downloading https://files.pythonhosted.org/packages/69/43/380514bd9663f1bf708abeb359b8b48d3fabb1c8e95bb3427a980a064c57/torch-0.4.0-cp36-cp36m-manylinux1_x86_64.whl (484.0MB)\n",
      "\u001b[K    100% |################################| 484.0MB 92kB/s \n",
      "\u001b[?25hInstalling collected packages: torch\n",
      "  Found existing installation: torch 0.3.1.post2\n",
      "    Uninstalling torch-0.3.1.post2:\n",
      "      Successfully uninstalled torch-0.3.1.post2\n",
      "Successfully installed torch-0.4.0\n"
     ]
    }
   ],
   "source": [
    "!pip install torch==0.4"
   ]
  },
  {
   "cell_type": "code",
   "execution_count": 13,
   "metadata": {},
   "outputs": [],
   "source": [
    "from torch.autograd import Variable\n",
    "import torch.onnx\n",
    "import torchvision"
   ]
  },
  {
   "cell_type": "code",
   "execution_count": 14,
   "metadata": {},
   "outputs": [],
   "source": [
    "MODEL_PATH = \"../../models/plant-seedlings-classification\""
   ]
  },
  {
   "cell_type": "code",
   "execution_count": 15,
   "metadata": {},
   "outputs": [
    {
     "name": "stdout",
     "output_type": "stream",
     "text": [
      "# conda environments:\n",
      "#\n",
      "base                  *  /opt/conda\n",
      "fastai                   /opt/conda/envs/fastai\n",
      "scriptenv                /opt/conda/envs/scriptenv\n",
      "\n"
     ]
    }
   ],
   "source": [
    "!conda info --envs"
   ]
  },
  {
   "cell_type": "code",
   "execution_count": 34,
   "metadata": {},
   "outputs": [
    {
     "name": "stdout",
     "output_type": "stream",
     "text": [
      "-rw-r--r-- 1 root root 87385774 Dec  6 04:50 ../../models/plant-seedlings-classification/pth\n"
     ]
    }
   ],
   "source": [
    "!ls -al {MODEL_PATH}/pth"
   ]
  },
  {
   "cell_type": "code",
   "execution_count": 41,
   "metadata": {},
   "outputs": [
    {
     "name": "stdout",
     "output_type": "stream",
     "text": [
      "odict_keys(['0.weight', '1.weight', '1.bias', '1.running_mean', '1.running_var', '4.0.conv1.weight', '4.0.bn1.weight', '4.0.bn1.bias', '4.0.bn1.running_mean', '4.0.bn1.running_var', '4.0.conv2.weight', '4.0.bn2.weight', '4.0.bn2.bias', '4.0.bn2.running_mean', '4.0.bn2.running_var', '4.1.conv1.weight', '4.1.bn1.weight', '4.1.bn1.bias', '4.1.bn1.running_mean', '4.1.bn1.running_var', '4.1.conv2.weight', '4.1.bn2.weight', '4.1.bn2.bias', '4.1.bn2.running_mean', '4.1.bn2.running_var', '4.2.conv1.weight', '4.2.bn1.weight', '4.2.bn1.bias', '4.2.bn1.running_mean', '4.2.bn1.running_var', '4.2.conv2.weight', '4.2.bn2.weight', '4.2.bn2.bias', '4.2.bn2.running_mean', '4.2.bn2.running_var', '5.0.conv1.weight', '5.0.bn1.weight', '5.0.bn1.bias', '5.0.bn1.running_mean', '5.0.bn1.running_var', '5.0.conv2.weight', '5.0.bn2.weight', '5.0.bn2.bias', '5.0.bn2.running_mean', '5.0.bn2.running_var', '5.0.downsample.0.weight', '5.0.downsample.1.weight', '5.0.downsample.1.bias', '5.0.downsample.1.running_mean', '5.0.downsample.1.running_var', '5.1.conv1.weight', '5.1.bn1.weight', '5.1.bn1.bias', '5.1.bn1.running_mean', '5.1.bn1.running_var', '5.1.conv2.weight', '5.1.bn2.weight', '5.1.bn2.bias', '5.1.bn2.running_mean', '5.1.bn2.running_var', '5.2.conv1.weight', '5.2.bn1.weight', '5.2.bn1.bias', '5.2.bn1.running_mean', '5.2.bn1.running_var', '5.2.conv2.weight', '5.2.bn2.weight', '5.2.bn2.bias', '5.2.bn2.running_mean', '5.2.bn2.running_var', '5.3.conv1.weight', '5.3.bn1.weight', '5.3.bn1.bias', '5.3.bn1.running_mean', '5.3.bn1.running_var', '5.3.conv2.weight', '5.3.bn2.weight', '5.3.bn2.bias', '5.3.bn2.running_mean', '5.3.bn2.running_var', '6.0.conv1.weight', '6.0.bn1.weight', '6.0.bn1.bias', '6.0.bn1.running_mean', '6.0.bn1.running_var', '6.0.conv2.weight', '6.0.bn2.weight', '6.0.bn2.bias', '6.0.bn2.running_mean', '6.0.bn2.running_var', '6.0.downsample.0.weight', '6.0.downsample.1.weight', '6.0.downsample.1.bias', '6.0.downsample.1.running_mean', '6.0.downsample.1.running_var', '6.1.conv1.weight', '6.1.bn1.weight', '6.1.bn1.bias', '6.1.bn1.running_mean', '6.1.bn1.running_var', '6.1.conv2.weight', '6.1.bn2.weight', '6.1.bn2.bias', '6.1.bn2.running_mean', '6.1.bn2.running_var', '6.2.conv1.weight', '6.2.bn1.weight', '6.2.bn1.bias', '6.2.bn1.running_mean', '6.2.bn1.running_var', '6.2.conv2.weight', '6.2.bn2.weight', '6.2.bn2.bias', '6.2.bn2.running_mean', '6.2.bn2.running_var', '6.3.conv1.weight', '6.3.bn1.weight', '6.3.bn1.bias', '6.3.bn1.running_mean', '6.3.bn1.running_var', '6.3.conv2.weight', '6.3.bn2.weight', '6.3.bn2.bias', '6.3.bn2.running_mean', '6.3.bn2.running_var', '6.4.conv1.weight', '6.4.bn1.weight', '6.4.bn1.bias', '6.4.bn1.running_mean', '6.4.bn1.running_var', '6.4.conv2.weight', '6.4.bn2.weight', '6.4.bn2.bias', '6.4.bn2.running_mean', '6.4.bn2.running_var', '6.5.conv1.weight', '6.5.bn1.weight', '6.5.bn1.bias', '6.5.bn1.running_mean', '6.5.bn1.running_var', '6.5.conv2.weight', '6.5.bn2.weight', '6.5.bn2.bias', '6.5.bn2.running_mean', '6.5.bn2.running_var', '7.0.conv1.weight', '7.0.bn1.weight', '7.0.bn1.bias', '7.0.bn1.running_mean', '7.0.bn1.running_var', '7.0.conv2.weight', '7.0.bn2.weight', '7.0.bn2.bias', '7.0.bn2.running_mean', '7.0.bn2.running_var', '7.0.downsample.0.weight', '7.0.downsample.1.weight', '7.0.downsample.1.bias', '7.0.downsample.1.running_mean', '7.0.downsample.1.running_var', '7.1.conv1.weight', '7.1.bn1.weight', '7.1.bn1.bias', '7.1.bn1.running_mean', '7.1.bn1.running_var', '7.1.conv2.weight', '7.1.bn2.weight', '7.1.bn2.bias', '7.1.bn2.running_mean', '7.1.bn2.running_var', '7.2.conv1.weight', '7.2.bn1.weight', '7.2.bn1.bias', '7.2.bn1.running_mean', '7.2.bn1.running_var', '7.2.conv2.weight', '7.2.bn2.weight', '7.2.bn2.bias', '7.2.bn2.running_mean', '7.2.bn2.running_var', '10.weight', '10.bias', '10.running_mean', '10.running_var', '12.weight', '12.bias', '14.weight', '14.bias', '14.running_mean', '14.running_var', '16.weight', '16.bias'])\n",
      "Traceback (most recent call last):\n",
      "  File \"./neural_style.py\", line 239, in <module>\n",
      "    main()\n",
      "  File \"./neural_style.py\", line 235, in main\n",
      "    stylize(args)\n",
      "  File \"./neural_style.py\", line 142, in stylize\n",
      "    style_model.load_state_dict(state_dict)\n",
      "  File \"/opt/conda/envs/fastai/lib/python3.6/site-packages/torch/nn/modules/module.py\", line 721, in load_state_dict\n",
      "    self.__class__.__name__, \"\\n\\t\".join(error_msgs)))\n",
      "RuntimeError: Error(s) in loading state_dict for TransformerNet:\n",
      "\tMissing key(s) in state_dict: \"conv1.conv2d.weight\", \"conv1.conv2d.bias\", \"in1.weight\", \"in1.bias\", \"conv2.conv2d.weight\", \"conv2.conv2d.bias\", \"in2.weight\", \"in2.bias\", \"conv3.conv2d.weight\", \"conv3.conv2d.bias\", \"in3.weight\", \"in3.bias\", \"res1.conv1.conv2d.weight\", \"res1.conv1.conv2d.bias\", \"res1.in1.weight\", \"res1.in1.bias\", \"res1.conv2.conv2d.weight\", \"res1.conv2.conv2d.bias\", \"res1.in2.weight\", \"res1.in2.bias\", \"res2.conv1.conv2d.weight\", \"res2.conv1.conv2d.bias\", \"res2.in1.weight\", \"res2.in1.bias\", \"res2.conv2.conv2d.weight\", \"res2.conv2.conv2d.bias\", \"res2.in2.weight\", \"res2.in2.bias\", \"res3.conv1.conv2d.weight\", \"res3.conv1.conv2d.bias\", \"res3.in1.weight\", \"res3.in1.bias\", \"res3.conv2.conv2d.weight\", \"res3.conv2.conv2d.bias\", \"res3.in2.weight\", \"res3.in2.bias\", \"res4.conv1.conv2d.weight\", \"res4.conv1.conv2d.bias\", \"res4.in1.weight\", \"res4.in1.bias\", \"res4.conv2.conv2d.weight\", \"res4.conv2.conv2d.bias\", \"res4.in2.weight\", \"res4.in2.bias\", \"res5.conv1.conv2d.weight\", \"res5.conv1.conv2d.bias\", \"res5.in1.weight\", \"res5.in1.bias\", \"res5.conv2.conv2d.weight\", \"res5.conv2.conv2d.bias\", \"res5.in2.weight\", \"res5.in2.bias\", \"deconv1.conv2d.weight\", \"deconv1.conv2d.bias\", \"in4.weight\", \"in4.bias\", \"deconv2.conv2d.weight\", \"deconv2.conv2d.bias\", \"in5.weight\", \"in5.bias\", \"deconv3.conv2d.weight\", \"deconv3.conv2d.bias\". \n",
      "\tUnexpected key(s) in state_dict: \"0.weight\", \"1.weight\", \"1.bias\", \"1.running_mean\", \"1.running_var\", \"4.0.conv1.weight\", \"4.0.bn1.weight\", \"4.0.bn1.bias\", \"4.0.bn1.running_mean\", \"4.0.bn1.running_var\", \"4.0.conv2.weight\", \"4.0.bn2.weight\", \"4.0.bn2.bias\", \"4.0.bn2.running_mean\", \"4.0.bn2.running_var\", \"4.1.conv1.weight\", \"4.1.bn1.weight\", \"4.1.bn1.bias\", \"4.1.bn1.running_mean\", \"4.1.bn1.running_var\", \"4.1.conv2.weight\", \"4.1.bn2.weight\", \"4.1.bn2.bias\", \"4.1.bn2.running_mean\", \"4.1.bn2.running_var\", \"4.2.conv1.weight\", \"4.2.bn1.weight\", \"4.2.bn1.bias\", \"4.2.bn1.running_mean\", \"4.2.bn1.running_var\", \"4.2.conv2.weight\", \"4.2.bn2.weight\", \"4.2.bn2.bias\", \"4.2.bn2.running_mean\", \"4.2.bn2.running_var\", \"5.0.conv1.weight\", \"5.0.bn1.weight\", \"5.0.bn1.bias\", \"5.0.bn1.running_mean\", \"5.0.bn1.running_var\", \"5.0.conv2.weight\", \"5.0.bn2.weight\", \"5.0.bn2.bias\", \"5.0.bn2.running_mean\", \"5.0.bn2.running_var\", \"5.0.downsample.0.weight\", \"5.0.downsample.1.weight\", \"5.0.downsample.1.bias\", \"5.0.downsample.1.running_mean\", \"5.0.downsample.1.running_var\", \"5.1.conv1.weight\", \"5.1.bn1.weight\", \"5.1.bn1.bias\", \"5.1.bn1.running_mean\", \"5.1.bn1.running_var\", \"5.1.conv2.weight\", \"5.1.bn2.weight\", \"5.1.bn2.bias\", \"5.1.bn2.running_mean\", \"5.1.bn2.running_var\", \"5.2.conv1.weight\", \"5.2.bn1.weight\", \"5.2.bn1.bias\", \"5.2.bn1.running_mean\", \"5.2.bn1.running_var\", \"5.2.conv2.weight\", \"5.2.bn2.weight\", \"5.2.bn2.bias\", \"5.2.bn2.running_mean\", \"5.2.bn2.running_var\", \"5.3.conv1.weight\", \"5.3.bn1.weight\", \"5.3.bn1.bias\", \"5.3.bn1.running_mean\", \"5.3.bn1.running_var\", \"5.3.conv2.weight\", \"5.3.bn2.weight\", \"5.3.bn2.bias\", \"5.3.bn2.running_mean\", \"5.3.bn2.running_var\", \"6.0.conv1.weight\", \"6.0.bn1.weight\", \"6.0.bn1.bias\", \"6.0.bn1.running_mean\", \"6.0.bn1.running_var\", \"6.0.conv2.weight\", \"6.0.bn2.weight\", \"6.0.bn2.bias\", \"6.0.bn2.running_mean\", \"6.0.bn2.running_var\", \"6.0.downsample.0.weight\", \"6.0.downsample.1.weight\", \"6.0.downsample.1.bias\", \"6.0.downsample.1.running_mean\", \"6.0.downsample.1.running_var\", \"6.1.conv1.weight\", \"6.1.bn1.weight\", \"6.1.bn1.bias\", \"6.1.bn1.running_mean\", \"6.1.bn1.running_var\", \"6.1.conv2.weight\", \"6.1.bn2.weight\", \"6.1.bn2.bias\", \"6.1.bn2.running_mean\", \"6.1.bn2.running_var\", \"6.2.conv1.weight\", \"6.2.bn1.weight\", \"6.2.bn1.bias\", \"6.2.bn1.running_mean\", \"6.2.bn1.running_var\", \"6.2.conv2.weight\", \"6.2.bn2.weight\", \"6.2.bn2.bias\", \"6.2.bn2.running_mean\", \"6.2.bn2.running_var\", \"6.3.conv1.weight\", \"6.3.bn1.weight\", \"6.3.bn1.bias\", \"6.3.bn1.running_mean\", \"6.3.bn1.running_var\", \"6.3.conv2.weight\", \"6.3.bn2.weight\", \"6.3.bn2.bias\", \"6.3.bn2.running_mean\", \"6.3.bn2.running_var\", \"6.4.conv1.weight\", \"6.4.bn1.weight\", \"6.4.bn1.bias\", \"6.4.bn1.running_mean\", \"6.4.bn1.running_var\", \"6.4.conv2.weight\", \"6.4.bn2.weight\", \"6.4.bn2.bias\", \"6.4.bn2.running_mean\", \"6.4.bn2.running_var\", \"6.5.conv1.weight\", \"6.5.bn1.weight\", \"6.5.bn1.bias\", \"6.5.bn1.running_mean\", \"6.5.bn1.running_var\", \"6.5.conv2.weight\", \"6.5.bn2.weight\", \"6.5.bn2.bias\", \"6.5.bn2.running_mean\", \"6.5.bn2.running_var\", \"7.0.conv1.weight\", \"7.0.bn1.weight\", \"7.0.bn1.bias\", \"7.0.bn1.running_mean\", \"7.0.bn1.running_var\", \"7.0.conv2.weight\", \"7.0.bn2.weight\", \"7.0.bn2.bias\", \"7.0.bn2.running_mean\", \"7.0.bn2.running_var\", \"7.0.downsample.0.weight\", \"7.0.downsample.1.weight\", \"7.0.downsample.1.bias\", \"7.0.downsample.1.running_mean\", \"7.0.downsample.1.running_var\", \"7.1.conv1.weight\", \"7.1.bn1.weight\", \"7.1.bn1.bias\", \"7.1.bn1.running_mean\", \"7.1.bn1.running_var\", \"7.1.conv2.weight\", \"7.1.bn2.weight\", \"7.1.bn2.bias\", \"7.1.bn2.running_mean\", \"7.1.bn2.running_var\", \"7.2.conv1.weight\", \"7.2.bn1.weight\", \"7.2.bn1.bias\", \"7.2.bn1.running_mean\", \"7.2.bn1.running_var\", \"7.2.conv2.weight\", \"7.2.bn2.weight\", \"7.2.bn2.bias\", \"7.2.bn2.running_mean\", \"7.2.bn2.running_var\", \"10.weight\", \"10.bias\", \"10.running_mean\", \"10.running_var\", \"12.weight\", \"12.bias\", \"14.weight\", \"14.bias\", \"14.running_mean\", \"14.running_var\", \"16.weight\", \"16.bias\". \n"
     ]
    }
   ],
   "source": [
    "!python ./neural_style.py eval --content-image dummy.jpg --output-image dummy-out.jpg --model {MODEL_PATH}/pth --cuda 0 --export_onnx {MODEL_PATH}/model.onnx"
   ]
  },
  {
   "cell_type": "code",
   "execution_count": null,
   "metadata": {},
   "outputs": [],
   "source": []
  }
 ],
 "metadata": {
  "kernelspec": {
   "display_name": "Python 3",
   "language": "python",
   "name": "python3"
  },
  "language_info": {
   "codemirror_mode": {
    "name": "ipython",
    "version": 3
   },
   "file_extension": ".py",
   "mimetype": "text/x-python",
   "name": "python",
   "nbconvert_exporter": "python",
   "pygments_lexer": "ipython3",
   "version": "3.6.7"
  }
 },
 "nbformat": 4,
 "nbformat_minor": 2
}
