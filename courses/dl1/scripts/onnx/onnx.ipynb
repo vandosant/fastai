{
 "cells": [
  {
   "cell_type": "code",
   "execution_count": null,
   "metadata": {},
   "outputs": [],
   "source": [
    ". venv/bin/activate"
   ]
  },
  {
   "cell_type": "code",
   "execution_count": null,
   "metadata": {},
   "outputs": [],
   "source": [
    "!pip3 install numpy torch torchvision"
   ]
  },
  {
   "cell_type": "code",
   "execution_count": 31,
   "metadata": {},
   "outputs": [
    {
     "name": "stdout",
     "output_type": "stream",
     "text": [
      "Collecting onnx\n",
      "  Using cached https://files.pythonhosted.org/packages/5b/dc/a618db796e343aeacdf6dd0ffc672d937531bd2eba29733137df595bdfd3/onnx-1.3.0-cp36-cp36m-manylinux1_x86_64.whl\n",
      "Requirement already satisfied: six in /opt/conda/envs/fastai/lib/python3.6/site-packages (from onnx) (1.11.0)\n",
      "Requirement already satisfied: numpy in /opt/conda/envs/fastai/lib/python3.6/site-packages (from onnx) (1.15.1)\n",
      "Collecting typing-extensions>=3.6.2.1 (from onnx)\n",
      "  Using cached https://files.pythonhosted.org/packages/62/4f/392a1fa2873e646f5990eb6f956e662d8a235ab474450c72487745f67276/typing_extensions-3.6.6-py3-none-any.whl\n",
      "Collecting protobuf (from onnx)\n",
      "  Using cached https://files.pythonhosted.org/packages/c2/f9/28787754923612ca9bfdffc588daa05580ed70698add063a5629d1a4209d/protobuf-3.6.1-cp36-cp36m-manylinux1_x86_64.whl\n",
      "Collecting typing>=3.6.4 (from onnx)\n",
      "  Using cached https://files.pythonhosted.org/packages/4a/bd/eee1157fc2d8514970b345d69cb9975dcd1e42cd7e61146ed841f6e68309/typing-3.6.6-py3-none-any.whl\n",
      "Requirement already satisfied: setuptools in /opt/conda/envs/fastai/lib/python3.6/site-packages (from protobuf->onnx) (40.6.2)\n",
      "Installing collected packages: typing-extensions, protobuf, typing, onnx\n",
      "Successfully installed onnx-1.3.0 protobuf-3.6.1 typing-3.6.6 typing-extensions-3.6.6\n"
     ]
    }
   ],
   "source": [
    "!pip install onnx"
   ]
  },
  {
   "cell_type": "code",
   "execution_count": 4,
   "metadata": {},
   "outputs": [],
   "source": [
    "from torch.autograd import Variable\n",
    "import torch.onnx\n",
    "import torchvision"
   ]
  },
  {
   "cell_type": "code",
   "execution_count": 5,
   "metadata": {},
   "outputs": [],
   "source": [
    "MODEL_PATH = \"../../models/plant-seedlings-classification\""
   ]
  },
  {
   "cell_type": "code",
   "execution_count": 8,
   "metadata": {},
   "outputs": [
    {
     "name": "stdout",
     "output_type": "stream",
     "text": [
      "# conda environments:\n",
      "#\n",
      "base                  *  /opt/conda\n",
      "fastai                   /opt/conda/envs/fastai\n",
      "scriptenv                /opt/conda/envs/scriptenv\n",
      "\n"
     ]
    }
   ],
   "source": [
    "!conda info --envs"
   ]
  },
  {
   "cell_type": "code",
   "execution_count": null,
   "metadata": {},
   "outputs": [],
   "source": [
    "MODEL_PATH = \"../../models/plant-seedlings-classification\""
   ]
  },
  {
   "cell_type": "code",
   "execution_count": null,
   "metadata": {},
   "outputs": [],
   "source": [
    "python ./neural_style.py eval --content-image dummy.jpg --output-image dummy-out.jpg --model ../../models/plant-seedlings-classification/pth --cuda 0 --export_onnx ../../models/plant-seedlings-classification/model.onnx"
   ]
  },
  {
   "cell_type": "code",
   "execution_count": 22,
   "metadata": {},
   "outputs": [
    {
     "name": "stdout",
     "output_type": "stream",
     "text": [
      "Traceback (most recent call last):\n",
      "  File \"./neural_style.py\", line 238, in <module>\n",
      "    main()\n",
      "  File \"./neural_style.py\", line 234, in main\n",
      "    stylize(args)\n",
      "  File \"./neural_style.py\", line 134, in stylize\n",
      "    with torch.no_grad():\n",
      "AttributeError: module 'torch' has no attribute 'no_grad'\n"
     ]
    }
   ],
   "source": [
    "!python ./neural_style.py eval --content-image dummy.jpg --output-image dummy-out.jpg --model {MODEL_PATH}/pth --cuda 0 --export_onnx {MODEL_PATH}/model.onnx"
   ]
  },
  {
   "cell_type": "code",
   "execution_count": null,
   "metadata": {},
   "outputs": [],
   "source": []
  }
 ],
 "metadata": {
  "kernelspec": {
   "display_name": "Python 3",
   "language": "python",
   "name": "python3"
  },
  "language_info": {
   "codemirror_mode": {
    "name": "ipython",
    "version": 3
   },
   "file_extension": ".py",
   "mimetype": "text/x-python",
   "name": "python",
   "nbconvert_exporter": "python",
   "pygments_lexer": "ipython3",
   "version": "3.6.7"
  }
 },
 "nbformat": 4,
 "nbformat_minor": 2
}
