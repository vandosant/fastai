{
 "cells": [
  {
   "cell_type": "code",
   "execution_count": 13,
   "metadata": {},
   "outputs": [
    {
     "name": "stdout",
     "output_type": "stream",
     "text": [
      "The autoreload extension is already loaded. To reload it, use:\n",
      "  %reload_ext autoreload\n"
     ]
    }
   ],
   "source": [
    "%load_ext autoreload\n",
    "%autoreload 2\n",
    "\n",
    "%matplotlib inline"
   ]
  },
  {
   "cell_type": "code",
   "execution_count": 14,
   "metadata": {},
   "outputs": [],
   "source": [
    "from fastai.imports import *\n",
    "from fastai.structured import *\n",
    "\n",
    "from pandas_summary import DataFrameSummary\n",
    "from sklearn.ensemble import RandomForestRegressor, RandomForestClassifier\n",
    "from IPython.display import display\n",
    "\n",
    "from sklearn import metrics\n",
    "\n",
    "from pandas.io.json import json_normalize"
   ]
  },
  {
   "cell_type": "code",
   "execution_count": 15,
   "metadata": {},
   "outputs": [],
   "source": [
    "!mkdir -p {PATH}"
   ]
  },
  {
   "cell_type": "code",
   "execution_count": 16,
   "metadata": {},
   "outputs": [],
   "source": [
    "PATH = \"data/ga-customer-revenue-prediction/\""
   ]
  },
  {
   "cell_type": "code",
   "execution_count": 17,
   "metadata": {},
   "outputs": [
    {
     "name": "stdout",
     "output_type": "stream",
     "text": [
      "test.csv  train.csv\n"
     ]
    }
   ],
   "source": [
    "!ls {PATH}"
   ]
  },
  {
   "cell_type": "code",
   "execution_count": 13,
   "metadata": {},
   "outputs": [
    {
     "name": "stdout",
     "output_type": "stream",
     "text": [
      "Downloading sample_submission.csv.zip to /notebooks/courses/ml1\n",
      "  0%|                                               | 0.00/5.22M [00:00<?, ?B/s]\n",
      "100%|######################################| 5.22M/5.22M [00:00<00:00, 60.1MB/s]\n",
      "Downloading test.csv.zip to /notebooks/courses/ml1\n",
      " 92%|##################################9   | 49.0M/53.3M [00:01<00:00, 37.4MB/s]\n",
      "100%|######################################| 53.3M/53.3M [00:01<00:00, 38.7MB/s]\n",
      "Downloading train.csv.zip to /notebooks/courses/ml1\n",
      " 97%|####################################9 | 56.0M/57.5M [00:00<00:00, 63.6MB/s]\n",
      "100%|######################################| 57.5M/57.5M [00:01<00:00, 60.3MB/s]\n"
     ]
    }
   ],
   "source": [
    "!export KAGGLE_USERNAME=vandosant && export KAGGLE_KEY=cb365ec3a8405eb7d4224b7575fba73e && kaggle competitions download -c ga-customer-revenue-prediction"
   ]
  },
  {
   "cell_type": "code",
   "execution_count": 14,
   "metadata": {},
   "outputs": [
    {
     "name": "stdout",
     "output_type": "stream",
     "text": [
      "Ethics in Data Science.ipynb\t      lesson4-mnist_sgd.ipynb\n",
      "bulldozer_dl.ipynb\t\t      lesson5-nlp.ipynb\n",
      "bulldozer_linreg.ipynb\t\t      marketdata_sample.csv\n",
      "data\t\t\t\t      news_sample.csv\n",
      "excel\t\t\t\t      ppt\n",
      "ga-customer-revenue-prediction.ipynb  sample_submission.csv.zip\n",
      "images\t\t\t\t      test.csv.zip\n",
      "kaggle.json\t\t\t      tmp\n",
      "lesson1-rf.ipynb\t\t      train.csv.zip\n",
      "lesson2-rf_interpretation.ipynb       two-sigma.ipynb\n",
      "lesson3-rf_foundations.ipynb\n"
     ]
    }
   ],
   "source": [
    "!ls"
   ]
  },
  {
   "cell_type": "code",
   "execution_count": 15,
   "metadata": {},
   "outputs": [],
   "source": [
    "!mv train.csv.zip test.csv.zip {PATH}"
   ]
  },
  {
   "cell_type": "code",
   "execution_count": 16,
   "metadata": {},
   "outputs": [
    {
     "name": "stdout",
     "output_type": "stream",
     "text": [
      "test.csv.zip  train.csv.zip\n"
     ]
    }
   ],
   "source": [
    "!ls {PATH}"
   ]
  },
  {
   "cell_type": "code",
   "execution_count": 17,
   "metadata": {},
   "outputs": [
    {
     "name": "stdout",
     "output_type": "stream",
     "text": [
      "Archive:  data/ga-customer-revenue-prediction/test.csv.zip\n",
      "  inflating: test.csv                \n"
     ]
    }
   ],
   "source": [
    "!unzip {PATH}test.csv.zip"
   ]
  },
  {
   "cell_type": "code",
   "execution_count": 18,
   "metadata": {},
   "outputs": [
    {
     "name": "stdout",
     "output_type": "stream",
     "text": [
      "Archive:  data/ga-customer-revenue-prediction/train.csv.zip\n",
      "  inflating: train.csv               \n"
     ]
    }
   ],
   "source": [
    "!unzip {PATH}train.csv.zip"
   ]
  },
  {
   "cell_type": "code",
   "execution_count": 19,
   "metadata": {},
   "outputs": [
    {
     "name": "stdout",
     "output_type": "stream",
     "text": [
      "test.csv.zip  train.csv.zip\n"
     ]
    }
   ],
   "source": [
    "!ls {PATH}"
   ]
  },
  {
   "cell_type": "code",
   "execution_count": 20,
   "metadata": {},
   "outputs": [],
   "source": [
    "!mv test.csv {PATH}"
   ]
  },
  {
   "cell_type": "code",
   "execution_count": 21,
   "metadata": {},
   "outputs": [],
   "source": [
    "!mv train.csv {PATH}"
   ]
  },
  {
   "cell_type": "code",
   "execution_count": 22,
   "metadata": {},
   "outputs": [
    {
     "name": "stdout",
     "output_type": "stream",
     "text": [
      "test.csv  test.csv.zip\ttrain.csv  train.csv.zip\n"
     ]
    }
   ],
   "source": [
    "!ls {PATH}"
   ]
  },
  {
   "cell_type": "code",
   "execution_count": 5,
   "metadata": {},
   "outputs": [],
   "source": [
    "df_raw = pd.read_csv(f'{PATH}train.csv', low_memory=False, parse_dates=['date'])"
   ]
  },
  {
   "cell_type": "code",
   "execution_count": 6,
   "metadata": {},
   "outputs": [
    {
     "data": {
      "text/html": [
       "<div>\n",
       "<style scoped>\n",
       "    .dataframe tbody tr th:only-of-type {\n",
       "        vertical-align: middle;\n",
       "    }\n",
       "\n",
       "    .dataframe tbody tr th {\n",
       "        vertical-align: top;\n",
       "    }\n",
       "\n",
       "    .dataframe thead th {\n",
       "        text-align: right;\n",
       "    }\n",
       "</style>\n",
       "<table border=\"1\" class=\"dataframe\">\n",
       "  <thead>\n",
       "    <tr style=\"text-align: right;\">\n",
       "      <th></th>\n",
       "      <th>0</th>\n",
       "      <th>1</th>\n",
       "      <th>2</th>\n",
       "      <th>3</th>\n",
       "      <th>4</th>\n",
       "    </tr>\n",
       "  </thead>\n",
       "  <tbody>\n",
       "    <tr>\n",
       "      <th>channelGrouping</th>\n",
       "      <td>Organic Search</td>\n",
       "      <td>Organic Search</td>\n",
       "      <td>Organic Search</td>\n",
       "      <td>Organic Search</td>\n",
       "      <td>Organic Search</td>\n",
       "    </tr>\n",
       "    <tr>\n",
       "      <th>date</th>\n",
       "      <td>2016-09-02 00:00:00</td>\n",
       "      <td>2016-09-02 00:00:00</td>\n",
       "      <td>2016-09-02 00:00:00</td>\n",
       "      <td>2016-09-02 00:00:00</td>\n",
       "      <td>2016-09-02 00:00:00</td>\n",
       "    </tr>\n",
       "    <tr>\n",
       "      <th>device</th>\n",
       "      <td>{\"browser\": \"Chrome\", \"browserVersion\": \"not a...</td>\n",
       "      <td>{\"browser\": \"Firefox\", \"browserVersion\": \"not ...</td>\n",
       "      <td>{\"browser\": \"Chrome\", \"browserVersion\": \"not a...</td>\n",
       "      <td>{\"browser\": \"UC Browser\", \"browserVersion\": \"n...</td>\n",
       "      <td>{\"browser\": \"Chrome\", \"browserVersion\": \"not a...</td>\n",
       "    </tr>\n",
       "    <tr>\n",
       "      <th>fullVisitorId</th>\n",
       "      <td>1131660440785968503</td>\n",
       "      <td>377306020877927890</td>\n",
       "      <td>3895546263509774583</td>\n",
       "      <td>4763447161404445595</td>\n",
       "      <td>27294437909732085</td>\n",
       "    </tr>\n",
       "    <tr>\n",
       "      <th>geoNetwork</th>\n",
       "      <td>{\"continent\": \"Asia\", \"subContinent\": \"Western...</td>\n",
       "      <td>{\"continent\": \"Oceania\", \"subContinent\": \"Aust...</td>\n",
       "      <td>{\"continent\": \"Europe\", \"subContinent\": \"South...</td>\n",
       "      <td>{\"continent\": \"Asia\", \"subContinent\": \"Southea...</td>\n",
       "      <td>{\"continent\": \"Europe\", \"subContinent\": \"North...</td>\n",
       "    </tr>\n",
       "    <tr>\n",
       "      <th>sessionId</th>\n",
       "      <td>1131660440785968503_1472830385</td>\n",
       "      <td>377306020877927890_1472880147</td>\n",
       "      <td>3895546263509774583_1472865386</td>\n",
       "      <td>4763447161404445595_1472881213</td>\n",
       "      <td>27294437909732085_1472822600</td>\n",
       "    </tr>\n",
       "    <tr>\n",
       "      <th>socialEngagementType</th>\n",
       "      <td>Not Socially Engaged</td>\n",
       "      <td>Not Socially Engaged</td>\n",
       "      <td>Not Socially Engaged</td>\n",
       "      <td>Not Socially Engaged</td>\n",
       "      <td>Not Socially Engaged</td>\n",
       "    </tr>\n",
       "    <tr>\n",
       "      <th>totals</th>\n",
       "      <td>{\"visits\": \"1\", \"hits\": \"1\", \"pageviews\": \"1\",...</td>\n",
       "      <td>{\"visits\": \"1\", \"hits\": \"1\", \"pageviews\": \"1\",...</td>\n",
       "      <td>{\"visits\": \"1\", \"hits\": \"1\", \"pageviews\": \"1\",...</td>\n",
       "      <td>{\"visits\": \"1\", \"hits\": \"1\", \"pageviews\": \"1\",...</td>\n",
       "      <td>{\"visits\": \"1\", \"hits\": \"1\", \"pageviews\": \"1\",...</td>\n",
       "    </tr>\n",
       "    <tr>\n",
       "      <th>trafficSource</th>\n",
       "      <td>{\"campaign\": \"(not set)\", \"source\": \"google\", ...</td>\n",
       "      <td>{\"campaign\": \"(not set)\", \"source\": \"google\", ...</td>\n",
       "      <td>{\"campaign\": \"(not set)\", \"source\": \"google\", ...</td>\n",
       "      <td>{\"campaign\": \"(not set)\", \"source\": \"google\", ...</td>\n",
       "      <td>{\"campaign\": \"(not set)\", \"source\": \"google\", ...</td>\n",
       "    </tr>\n",
       "    <tr>\n",
       "      <th>visitId</th>\n",
       "      <td>1472830385</td>\n",
       "      <td>1472880147</td>\n",
       "      <td>1472865386</td>\n",
       "      <td>1472881213</td>\n",
       "      <td>1472822600</td>\n",
       "    </tr>\n",
       "    <tr>\n",
       "      <th>visitNumber</th>\n",
       "      <td>1</td>\n",
       "      <td>1</td>\n",
       "      <td>1</td>\n",
       "      <td>1</td>\n",
       "      <td>2</td>\n",
       "    </tr>\n",
       "    <tr>\n",
       "      <th>visitStartTime</th>\n",
       "      <td>1472830385</td>\n",
       "      <td>1472880147</td>\n",
       "      <td>1472865386</td>\n",
       "      <td>1472881213</td>\n",
       "      <td>1472822600</td>\n",
       "    </tr>\n",
       "  </tbody>\n",
       "</table>\n",
       "</div>"
      ],
      "text/plain": [
       "                                                                      0  \\\n",
       "channelGrouping                                          Organic Search   \n",
       "date                                                2016-09-02 00:00:00   \n",
       "device                {\"browser\": \"Chrome\", \"browserVersion\": \"not a...   \n",
       "fullVisitorId                                       1131660440785968503   \n",
       "geoNetwork            {\"continent\": \"Asia\", \"subContinent\": \"Western...   \n",
       "sessionId                                1131660440785968503_1472830385   \n",
       "socialEngagementType                               Not Socially Engaged   \n",
       "totals                {\"visits\": \"1\", \"hits\": \"1\", \"pageviews\": \"1\",...   \n",
       "trafficSource         {\"campaign\": \"(not set)\", \"source\": \"google\", ...   \n",
       "visitId                                                      1472830385   \n",
       "visitNumber                                                           1   \n",
       "visitStartTime                                               1472830385   \n",
       "\n",
       "                                                                      1  \\\n",
       "channelGrouping                                          Organic Search   \n",
       "date                                                2016-09-02 00:00:00   \n",
       "device                {\"browser\": \"Firefox\", \"browserVersion\": \"not ...   \n",
       "fullVisitorId                                        377306020877927890   \n",
       "geoNetwork            {\"continent\": \"Oceania\", \"subContinent\": \"Aust...   \n",
       "sessionId                                 377306020877927890_1472880147   \n",
       "socialEngagementType                               Not Socially Engaged   \n",
       "totals                {\"visits\": \"1\", \"hits\": \"1\", \"pageviews\": \"1\",...   \n",
       "trafficSource         {\"campaign\": \"(not set)\", \"source\": \"google\", ...   \n",
       "visitId                                                      1472880147   \n",
       "visitNumber                                                           1   \n",
       "visitStartTime                                               1472880147   \n",
       "\n",
       "                                                                      2  \\\n",
       "channelGrouping                                          Organic Search   \n",
       "date                                                2016-09-02 00:00:00   \n",
       "device                {\"browser\": \"Chrome\", \"browserVersion\": \"not a...   \n",
       "fullVisitorId                                       3895546263509774583   \n",
       "geoNetwork            {\"continent\": \"Europe\", \"subContinent\": \"South...   \n",
       "sessionId                                3895546263509774583_1472865386   \n",
       "socialEngagementType                               Not Socially Engaged   \n",
       "totals                {\"visits\": \"1\", \"hits\": \"1\", \"pageviews\": \"1\",...   \n",
       "trafficSource         {\"campaign\": \"(not set)\", \"source\": \"google\", ...   \n",
       "visitId                                                      1472865386   \n",
       "visitNumber                                                           1   \n",
       "visitStartTime                                               1472865386   \n",
       "\n",
       "                                                                      3  \\\n",
       "channelGrouping                                          Organic Search   \n",
       "date                                                2016-09-02 00:00:00   \n",
       "device                {\"browser\": \"UC Browser\", \"browserVersion\": \"n...   \n",
       "fullVisitorId                                       4763447161404445595   \n",
       "geoNetwork            {\"continent\": \"Asia\", \"subContinent\": \"Southea...   \n",
       "sessionId                                4763447161404445595_1472881213   \n",
       "socialEngagementType                               Not Socially Engaged   \n",
       "totals                {\"visits\": \"1\", \"hits\": \"1\", \"pageviews\": \"1\",...   \n",
       "trafficSource         {\"campaign\": \"(not set)\", \"source\": \"google\", ...   \n",
       "visitId                                                      1472881213   \n",
       "visitNumber                                                           1   \n",
       "visitStartTime                                               1472881213   \n",
       "\n",
       "                                                                      4  \n",
       "channelGrouping                                          Organic Search  \n",
       "date                                                2016-09-02 00:00:00  \n",
       "device                {\"browser\": \"Chrome\", \"browserVersion\": \"not a...  \n",
       "fullVisitorId                                         27294437909732085  \n",
       "geoNetwork            {\"continent\": \"Europe\", \"subContinent\": \"North...  \n",
       "sessionId                                  27294437909732085_1472822600  \n",
       "socialEngagementType                               Not Socially Engaged  \n",
       "totals                {\"visits\": \"1\", \"hits\": \"1\", \"pageviews\": \"1\",...  \n",
       "trafficSource         {\"campaign\": \"(not set)\", \"source\": \"google\", ...  \n",
       "visitId                                                      1472822600  \n",
       "visitNumber                                                           2  \n",
       "visitStartTime                                               1472822600  "
      ]
     },
     "execution_count": 6,
     "metadata": {},
     "output_type": "execute_result"
    }
   ],
   "source": [
    "df_raw.head().T"
   ]
  },
  {
   "cell_type": "code",
   "execution_count": 18,
   "metadata": {},
   "outputs": [
    {
     "data": {
      "text/html": [
       "<div>\n",
       "<style scoped>\n",
       "    .dataframe tbody tr th:only-of-type {\n",
       "        vertical-align: middle;\n",
       "    }\n",
       "\n",
       "    .dataframe tbody tr th {\n",
       "        vertical-align: top;\n",
       "    }\n",
       "\n",
       "    .dataframe thead th {\n",
       "        text-align: right;\n",
       "    }\n",
       "</style>\n",
       "<table border=\"1\" class=\"dataframe\">\n",
       "  <thead>\n",
       "    <tr style=\"text-align: right;\">\n",
       "      <th></th>\n",
       "      <th>channelGrouping</th>\n",
       "      <th>date</th>\n",
       "      <th>device</th>\n",
       "      <th>fullVisitorId</th>\n",
       "      <th>geoNetwork</th>\n",
       "      <th>sessionId</th>\n",
       "      <th>socialEngagementType</th>\n",
       "      <th>totals</th>\n",
       "      <th>trafficSource</th>\n",
       "      <th>visitId</th>\n",
       "      <th>visitNumber</th>\n",
       "      <th>visitStartTime</th>\n",
       "    </tr>\n",
       "  </thead>\n",
       "  <tbody>\n",
       "    <tr>\n",
       "      <th>0</th>\n",
       "      <td>Organic Search</td>\n",
       "      <td>2016-09-02</td>\n",
       "      <td>{\"browser\": \"Chrome\", \"browserVersion\": \"not a...</td>\n",
       "      <td>1131660440785968503</td>\n",
       "      <td>{\"continent\": \"Asia\", \"subContinent\": \"Western...</td>\n",
       "      <td>1131660440785968503_1472830385</td>\n",
       "      <td>Not Socially Engaged</td>\n",
       "      <td>{\"visits\": \"1\", \"hits\": \"1\", \"pageviews\": \"1\",...</td>\n",
       "      <td>{\"campaign\": \"(not set)\", \"source\": \"google\", ...</td>\n",
       "      <td>1472830385</td>\n",
       "      <td>1</td>\n",
       "      <td>1472830385</td>\n",
       "    </tr>\n",
       "    <tr>\n",
       "      <th>1</th>\n",
       "      <td>Organic Search</td>\n",
       "      <td>2016-09-02</td>\n",
       "      <td>{\"browser\": \"Firefox\", \"browserVersion\": \"not ...</td>\n",
       "      <td>377306020877927890</td>\n",
       "      <td>{\"continent\": \"Oceania\", \"subContinent\": \"Aust...</td>\n",
       "      <td>377306020877927890_1472880147</td>\n",
       "      <td>Not Socially Engaged</td>\n",
       "      <td>{\"visits\": \"1\", \"hits\": \"1\", \"pageviews\": \"1\",...</td>\n",
       "      <td>{\"campaign\": \"(not set)\", \"source\": \"google\", ...</td>\n",
       "      <td>1472880147</td>\n",
       "      <td>1</td>\n",
       "      <td>1472880147</td>\n",
       "    </tr>\n",
       "    <tr>\n",
       "      <th>2</th>\n",
       "      <td>Organic Search</td>\n",
       "      <td>2016-09-02</td>\n",
       "      <td>{\"browser\": \"Chrome\", \"browserVersion\": \"not a...</td>\n",
       "      <td>3895546263509774583</td>\n",
       "      <td>{\"continent\": \"Europe\", \"subContinent\": \"South...</td>\n",
       "      <td>3895546263509774583_1472865386</td>\n",
       "      <td>Not Socially Engaged</td>\n",
       "      <td>{\"visits\": \"1\", \"hits\": \"1\", \"pageviews\": \"1\",...</td>\n",
       "      <td>{\"campaign\": \"(not set)\", \"source\": \"google\", ...</td>\n",
       "      <td>1472865386</td>\n",
       "      <td>1</td>\n",
       "      <td>1472865386</td>\n",
       "    </tr>\n",
       "    <tr>\n",
       "      <th>3</th>\n",
       "      <td>Organic Search</td>\n",
       "      <td>2016-09-02</td>\n",
       "      <td>{\"browser\": \"UC Browser\", \"browserVersion\": \"n...</td>\n",
       "      <td>4763447161404445595</td>\n",
       "      <td>{\"continent\": \"Asia\", \"subContinent\": \"Southea...</td>\n",
       "      <td>4763447161404445595_1472881213</td>\n",
       "      <td>Not Socially Engaged</td>\n",
       "      <td>{\"visits\": \"1\", \"hits\": \"1\", \"pageviews\": \"1\",...</td>\n",
       "      <td>{\"campaign\": \"(not set)\", \"source\": \"google\", ...</td>\n",
       "      <td>1472881213</td>\n",
       "      <td>1</td>\n",
       "      <td>1472881213</td>\n",
       "    </tr>\n",
       "    <tr>\n",
       "      <th>4</th>\n",
       "      <td>Organic Search</td>\n",
       "      <td>2016-09-02</td>\n",
       "      <td>{\"browser\": \"Chrome\", \"browserVersion\": \"not a...</td>\n",
       "      <td>27294437909732085</td>\n",
       "      <td>{\"continent\": \"Europe\", \"subContinent\": \"North...</td>\n",
       "      <td>27294437909732085_1472822600</td>\n",
       "      <td>Not Socially Engaged</td>\n",
       "      <td>{\"visits\": \"1\", \"hits\": \"1\", \"pageviews\": \"1\",...</td>\n",
       "      <td>{\"campaign\": \"(not set)\", \"source\": \"google\", ...</td>\n",
       "      <td>1472822600</td>\n",
       "      <td>2</td>\n",
       "      <td>1472822600</td>\n",
       "    </tr>\n",
       "    <tr>\n",
       "      <th>...</th>\n",
       "      <td>...</td>\n",
       "      <td>...</td>\n",
       "      <td>...</td>\n",
       "      <td>...</td>\n",
       "      <td>...</td>\n",
       "      <td>...</td>\n",
       "      <td>...</td>\n",
       "      <td>...</td>\n",
       "      <td>...</td>\n",
       "      <td>...</td>\n",
       "      <td>...</td>\n",
       "      <td>...</td>\n",
       "    </tr>\n",
       "    <tr>\n",
       "      <th>903648</th>\n",
       "      <td>Social</td>\n",
       "      <td>2017-01-04</td>\n",
       "      <td>{\"browser\": \"Chrome\", \"browserVersion\": \"not a...</td>\n",
       "      <td>5123779100307500332</td>\n",
       "      <td>{\"continent\": \"Americas\", \"subContinent\": \"Car...</td>\n",
       "      <td>5123779100307500332_1483554750</td>\n",
       "      <td>Not Socially Engaged</td>\n",
       "      <td>{\"visits\": \"1\", \"hits\": \"17\", \"pageviews\": \"15...</td>\n",
       "      <td>{\"referralPath\": \"/yt/about/\", \"campaign\": \"(n...</td>\n",
       "      <td>1483554750</td>\n",
       "      <td>1</td>\n",
       "      <td>1483554750</td>\n",
       "    </tr>\n",
       "    <tr>\n",
       "      <th>903649</th>\n",
       "      <td>Social</td>\n",
       "      <td>2017-01-04</td>\n",
       "      <td>{\"browser\": \"Chrome\", \"browserVersion\": \"not a...</td>\n",
       "      <td>7231728964973959842</td>\n",
       "      <td>{\"continent\": \"Asia\", \"subContinent\": \"Souther...</td>\n",
       "      <td>7231728964973959842_1483543798</td>\n",
       "      <td>Not Socially Engaged</td>\n",
       "      <td>{\"visits\": \"1\", \"hits\": \"18\", \"pageviews\": \"13...</td>\n",
       "      <td>{\"referralPath\": \"/yt/about/\", \"campaign\": \"(n...</td>\n",
       "      <td>1483543798</td>\n",
       "      <td>1</td>\n",
       "      <td>1483543798</td>\n",
       "    </tr>\n",
       "    <tr>\n",
       "      <th>903650</th>\n",
       "      <td>Social</td>\n",
       "      <td>2017-01-04</td>\n",
       "      <td>{\"browser\": \"Android Webview\", \"browserVersion...</td>\n",
       "      <td>5744576632396406899</td>\n",
       "      <td>{\"continent\": \"Asia\", \"subContinent\": \"Eastern...</td>\n",
       "      <td>5744576632396406899_1483526434</td>\n",
       "      <td>Not Socially Engaged</td>\n",
       "      <td>{\"visits\": \"1\", \"hits\": \"24\", \"pageviews\": \"21...</td>\n",
       "      <td>{\"referralPath\": \"/yt/about/ko/\", \"campaign\": ...</td>\n",
       "      <td>1483526434</td>\n",
       "      <td>1</td>\n",
       "      <td>1483526434</td>\n",
       "    </tr>\n",
       "    <tr>\n",
       "      <th>903651</th>\n",
       "      <td>Social</td>\n",
       "      <td>2017-01-04</td>\n",
       "      <td>{\"browser\": \"Chrome\", \"browserVersion\": \"not a...</td>\n",
       "      <td>2709355455991750775</td>\n",
       "      <td>{\"continent\": \"Asia\", \"subContinent\": \"Southea...</td>\n",
       "      <td>2709355455991750775_1483592857</td>\n",
       "      <td>Not Socially Engaged</td>\n",
       "      <td>{\"visits\": \"1\", \"hits\": \"24\", \"pageviews\": \"22...</td>\n",
       "      <td>{\"referralPath\": \"/l.php\", \"campaign\": \"(not s...</td>\n",
       "      <td>1483592857</td>\n",
       "      <td>1</td>\n",
       "      <td>1483592864</td>\n",
       "    </tr>\n",
       "    <tr>\n",
       "      <th>903652</th>\n",
       "      <td>Social</td>\n",
       "      <td>2017-01-04</td>\n",
       "      <td>{\"browser\": \"Chrome\", \"browserVersion\": \"not a...</td>\n",
       "      <td>0814900163617805053</td>\n",
       "      <td>{\"continent\": \"Americas\", \"subContinent\": \"Cen...</td>\n",
       "      <td>0814900163617805053_1483574474</td>\n",
       "      <td>Not Socially Engaged</td>\n",
       "      <td>{\"visits\": \"1\", \"hits\": \"31\", \"pageviews\": \"31...</td>\n",
       "      <td>{\"referralPath\": \"/yt/about/es-419/\", \"campaig...</td>\n",
       "      <td>1483574474</td>\n",
       "      <td>1</td>\n",
       "      <td>1483574474</td>\n",
       "    </tr>\n",
       "  </tbody>\n",
       "</table>\n",
       "<p>903653 rows × 12 columns</p>\n",
       "</div>"
      ],
      "text/plain": [
       "       channelGrouping       date  \\\n",
       "0       Organic Search 2016-09-02   \n",
       "1       Organic Search 2016-09-02   \n",
       "2       Organic Search 2016-09-02   \n",
       "3       Organic Search 2016-09-02   \n",
       "4       Organic Search 2016-09-02   \n",
       "...                ...        ...   \n",
       "903648          Social 2017-01-04   \n",
       "903649          Social 2017-01-04   \n",
       "903650          Social 2017-01-04   \n",
       "903651          Social 2017-01-04   \n",
       "903652          Social 2017-01-04   \n",
       "\n",
       "                                                   device  \\\n",
       "0       {\"browser\": \"Chrome\", \"browserVersion\": \"not a...   \n",
       "1       {\"browser\": \"Firefox\", \"browserVersion\": \"not ...   \n",
       "2       {\"browser\": \"Chrome\", \"browserVersion\": \"not a...   \n",
       "3       {\"browser\": \"UC Browser\", \"browserVersion\": \"n...   \n",
       "4       {\"browser\": \"Chrome\", \"browserVersion\": \"not a...   \n",
       "...                                                   ...   \n",
       "903648  {\"browser\": \"Chrome\", \"browserVersion\": \"not a...   \n",
       "903649  {\"browser\": \"Chrome\", \"browserVersion\": \"not a...   \n",
       "903650  {\"browser\": \"Android Webview\", \"browserVersion...   \n",
       "903651  {\"browser\": \"Chrome\", \"browserVersion\": \"not a...   \n",
       "903652  {\"browser\": \"Chrome\", \"browserVersion\": \"not a...   \n",
       "\n",
       "              fullVisitorId  \\\n",
       "0       1131660440785968503   \n",
       "1        377306020877927890   \n",
       "2       3895546263509774583   \n",
       "3       4763447161404445595   \n",
       "4         27294437909732085   \n",
       "...                     ...   \n",
       "903648  5123779100307500332   \n",
       "903649  7231728964973959842   \n",
       "903650  5744576632396406899   \n",
       "903651  2709355455991750775   \n",
       "903652  0814900163617805053   \n",
       "\n",
       "                                               geoNetwork  \\\n",
       "0       {\"continent\": \"Asia\", \"subContinent\": \"Western...   \n",
       "1       {\"continent\": \"Oceania\", \"subContinent\": \"Aust...   \n",
       "2       {\"continent\": \"Europe\", \"subContinent\": \"South...   \n",
       "3       {\"continent\": \"Asia\", \"subContinent\": \"Southea...   \n",
       "4       {\"continent\": \"Europe\", \"subContinent\": \"North...   \n",
       "...                                                   ...   \n",
       "903648  {\"continent\": \"Americas\", \"subContinent\": \"Car...   \n",
       "903649  {\"continent\": \"Asia\", \"subContinent\": \"Souther...   \n",
       "903650  {\"continent\": \"Asia\", \"subContinent\": \"Eastern...   \n",
       "903651  {\"continent\": \"Asia\", \"subContinent\": \"Southea...   \n",
       "903652  {\"continent\": \"Americas\", \"subContinent\": \"Cen...   \n",
       "\n",
       "                             sessionId  socialEngagementType  \\\n",
       "0       1131660440785968503_1472830385  Not Socially Engaged   \n",
       "1        377306020877927890_1472880147  Not Socially Engaged   \n",
       "2       3895546263509774583_1472865386  Not Socially Engaged   \n",
       "3       4763447161404445595_1472881213  Not Socially Engaged   \n",
       "4         27294437909732085_1472822600  Not Socially Engaged   \n",
       "...                                ...                   ...   \n",
       "903648  5123779100307500332_1483554750  Not Socially Engaged   \n",
       "903649  7231728964973959842_1483543798  Not Socially Engaged   \n",
       "903650  5744576632396406899_1483526434  Not Socially Engaged   \n",
       "903651  2709355455991750775_1483592857  Not Socially Engaged   \n",
       "903652  0814900163617805053_1483574474  Not Socially Engaged   \n",
       "\n",
       "                                                   totals  \\\n",
       "0       {\"visits\": \"1\", \"hits\": \"1\", \"pageviews\": \"1\",...   \n",
       "1       {\"visits\": \"1\", \"hits\": \"1\", \"pageviews\": \"1\",...   \n",
       "2       {\"visits\": \"1\", \"hits\": \"1\", \"pageviews\": \"1\",...   \n",
       "3       {\"visits\": \"1\", \"hits\": \"1\", \"pageviews\": \"1\",...   \n",
       "4       {\"visits\": \"1\", \"hits\": \"1\", \"pageviews\": \"1\",...   \n",
       "...                                                   ...   \n",
       "903648  {\"visits\": \"1\", \"hits\": \"17\", \"pageviews\": \"15...   \n",
       "903649  {\"visits\": \"1\", \"hits\": \"18\", \"pageviews\": \"13...   \n",
       "903650  {\"visits\": \"1\", \"hits\": \"24\", \"pageviews\": \"21...   \n",
       "903651  {\"visits\": \"1\", \"hits\": \"24\", \"pageviews\": \"22...   \n",
       "903652  {\"visits\": \"1\", \"hits\": \"31\", \"pageviews\": \"31...   \n",
       "\n",
       "                                            trafficSource     visitId  \\\n",
       "0       {\"campaign\": \"(not set)\", \"source\": \"google\", ...  1472830385   \n",
       "1       {\"campaign\": \"(not set)\", \"source\": \"google\", ...  1472880147   \n",
       "2       {\"campaign\": \"(not set)\", \"source\": \"google\", ...  1472865386   \n",
       "3       {\"campaign\": \"(not set)\", \"source\": \"google\", ...  1472881213   \n",
       "4       {\"campaign\": \"(not set)\", \"source\": \"google\", ...  1472822600   \n",
       "...                                                   ...         ...   \n",
       "903648  {\"referralPath\": \"/yt/about/\", \"campaign\": \"(n...  1483554750   \n",
       "903649  {\"referralPath\": \"/yt/about/\", \"campaign\": \"(n...  1483543798   \n",
       "903650  {\"referralPath\": \"/yt/about/ko/\", \"campaign\": ...  1483526434   \n",
       "903651  {\"referralPath\": \"/l.php\", \"campaign\": \"(not s...  1483592857   \n",
       "903652  {\"referralPath\": \"/yt/about/es-419/\", \"campaig...  1483574474   \n",
       "\n",
       "        visitNumber  visitStartTime  \n",
       "0                 1      1472830385  \n",
       "1                 1      1472880147  \n",
       "2                 1      1472865386  \n",
       "3                 1      1472881213  \n",
       "4                 2      1472822600  \n",
       "...             ...             ...  \n",
       "903648            1      1483554750  \n",
       "903649            1      1483543798  \n",
       "903650            1      1483526434  \n",
       "903651            1      1483592864  \n",
       "903652            1      1483574474  \n",
       "\n",
       "[903653 rows x 12 columns]"
      ]
     },
     "metadata": {},
     "output_type": "display_data"
    }
   ],
   "source": [
    "with pd.option_context('display.max_rows', 10, 'display.max_columns', 50):\n",
    "    display(df_raw)"
   ]
  },
  {
   "cell_type": "code",
   "execution_count": 8,
   "metadata": {},
   "outputs": [
    {
     "data": {
      "text/plain": [
       "0    {\"visits\": \"1\", \"hits\": \"1\", \"pageviews\": \"1\",...\n",
       "Name: totals, dtype: object"
      ]
     },
     "execution_count": 8,
     "metadata": {},
     "output_type": "execute_result"
    }
   ],
   "source": [
    "df_raw.totals.head(1).T"
   ]
  },
  {
   "cell_type": "code",
   "execution_count": 9,
   "metadata": {},
   "outputs": [],
   "source": [
    "import json"
   ]
  },
  {
   "cell_type": "code",
   "execution_count": 60,
   "metadata": {},
   "outputs": [],
   "source": [
    "df_raw.totals = json_normalize(df_raw.totals.apply(json.loads))"
   ]
  },
  {
   "cell_type": "code",
   "execution_count": 27,
   "metadata": {},
   "outputs": [],
   "source": [
    "df_raw['transactionRevenue'] = df_raw['totals'].map(lambda x: float(json.loads(x).get('transactionRevenue', 0.0)))"
   ]
  },
  {
   "cell_type": "code",
   "execution_count": 28,
   "metadata": {},
   "outputs": [
    {
     "data": {
      "text/plain": [
       "1540071240000.0"
      ]
     },
     "execution_count": 28,
     "metadata": {},
     "output_type": "execute_result"
    }
   ],
   "source": [
    "df_raw['transactionRevenue'].sum()"
   ]
  },
  {
   "cell_type": "markdown",
   "metadata": {},
   "source": [
    "### Save to file"
   ]
  },
  {
   "cell_type": "code",
   "execution_count": 29,
   "metadata": {},
   "outputs": [],
   "source": [
    "os.makedirs('tmp', exist_ok=True)\n",
    "df_raw.to_feather('tmp/ga-customer-revenue-prediction')"
   ]
  },
  {
   "cell_type": "markdown",
   "metadata": {},
   "source": [
    "### Open feather data"
   ]
  },
  {
   "cell_type": "code",
   "execution_count": 5,
   "metadata": {},
   "outputs": [],
   "source": [
    "df_raw = pd.read_feather('tmp/ga-customer-revenue-prediction')"
   ]
  },
  {
   "cell_type": "code",
   "execution_count": 12,
   "metadata": {},
   "outputs": [
    {
     "data": {
      "text/html": [
       "<div>\n",
       "<style scoped>\n",
       "    .dataframe tbody tr th:only-of-type {\n",
       "        vertical-align: middle;\n",
       "    }\n",
       "\n",
       "    .dataframe tbody tr th {\n",
       "        vertical-align: top;\n",
       "    }\n",
       "\n",
       "    .dataframe thead th {\n",
       "        text-align: right;\n",
       "    }\n",
       "</style>\n",
       "<table border=\"1\" class=\"dataframe\">\n",
       "  <thead>\n",
       "    <tr style=\"text-align: right;\">\n",
       "      <th></th>\n",
       "      <th>channelGrouping</th>\n",
       "      <th>date</th>\n",
       "      <th>device</th>\n",
       "      <th>fullVisitorId</th>\n",
       "      <th>geoNetwork</th>\n",
       "      <th>sessionId</th>\n",
       "      <th>socialEngagementType</th>\n",
       "      <th>totals</th>\n",
       "      <th>trafficSource</th>\n",
       "      <th>visitId</th>\n",
       "      <th>visitNumber</th>\n",
       "      <th>visitStartTime</th>\n",
       "      <th>transactionRevenue</th>\n",
       "    </tr>\n",
       "  </thead>\n",
       "  <tbody>\n",
       "    <tr>\n",
       "      <th>375253</th>\n",
       "      <td>Display</td>\n",
       "      <td>2017-04-05</td>\n",
       "      <td>{\"browser\": \"Firefox\", \"browserVersion\": \"not ...</td>\n",
       "      <td>1957458976293878100</td>\n",
       "      <td>{\"continent\": \"Americas\", \"subContinent\": \"Nor...</td>\n",
       "      <td>1957458976293878100_1491423580</td>\n",
       "      <td>Not Socially Engaged</td>\n",
       "      <td>{\"visits\": \"1\", \"hits\": \"58\", \"pageviews\": \"40...</td>\n",
       "      <td>{\"campaign\": \"(not set)\", \"source\": \"dfa\", \"me...</td>\n",
       "      <td>1491423580</td>\n",
       "      <td>243</td>\n",
       "      <td>1491423580</td>\n",
       "      <td>2.312950e+10</td>\n",
       "    </tr>\n",
       "    <tr>\n",
       "      <th>430822</th>\n",
       "      <td>Direct</td>\n",
       "      <td>2017-02-14</td>\n",
       "      <td>{\"browser\": \"Firefox\", \"browserVersion\": \"not ...</td>\n",
       "      <td>1957458976293878100</td>\n",
       "      <td>{\"continent\": \"Americas\", \"subContinent\": \"Nor...</td>\n",
       "      <td>1957458976293878100_1487097028</td>\n",
       "      <td>Not Socially Engaged</td>\n",
       "      <td>{\"visits\": \"1\", \"hits\": \"91\", \"pageviews\": \"64...</td>\n",
       "      <td>{\"campaign\": \"(not set)\", \"source\": \"(direct)\"...</td>\n",
       "      <td>1487097028</td>\n",
       "      <td>181</td>\n",
       "      <td>1487097028</td>\n",
       "      <td>1.785550e+10</td>\n",
       "    </tr>\n",
       "    <tr>\n",
       "      <th>380988</th>\n",
       "      <td>Direct</td>\n",
       "      <td>2016-09-16</td>\n",
       "      <td>{\"browser\": \"Chrome\", \"browserVersion\": \"not a...</td>\n",
       "      <td>5632276788326171571</td>\n",
       "      <td>{\"continent\": \"Americas\", \"subContinent\": \"Nor...</td>\n",
       "      <td>5632276788326171571_1474035643</td>\n",
       "      <td>Not Socially Engaged</td>\n",
       "      <td>{\"visits\": \"1\", \"hits\": \"136\", \"pageviews\": \"8...</td>\n",
       "      <td>{\"campaign\": \"(not set)\", \"source\": \"(direct)\"...</td>\n",
       "      <td>1474035643</td>\n",
       "      <td>5</td>\n",
       "      <td>1474035643</td>\n",
       "      <td>1.602375e+10</td>\n",
       "    </tr>\n",
       "    <tr>\n",
       "      <th>773715</th>\n",
       "      <td>Direct</td>\n",
       "      <td>2017-07-18</td>\n",
       "      <td>{\"browser\": \"Chrome\", \"browserVersion\": \"not a...</td>\n",
       "      <td>9417857471295131045</td>\n",
       "      <td>{\"continent\": \"Americas\", \"subContinent\": \"Nor...</td>\n",
       "      <td>9417857471295131045_1500404409</td>\n",
       "      <td>Not Socially Engaged</td>\n",
       "      <td>{\"visits\": \"1\", \"hits\": \"41\", \"pageviews\": \"30...</td>\n",
       "      <td>{\"campaign\": \"(not set)\", \"source\": \"(direct)\"...</td>\n",
       "      <td>1500404409</td>\n",
       "      <td>8</td>\n",
       "      <td>1500404409</td>\n",
       "      <td>1.058914e+10</td>\n",
       "    </tr>\n",
       "    <tr>\n",
       "      <th>891576</th>\n",
       "      <td>Display</td>\n",
       "      <td>2017-03-24</td>\n",
       "      <td>{\"browser\": \"Firefox\", \"browserVersion\": \"not ...</td>\n",
       "      <td>1957458976293878100</td>\n",
       "      <td>{\"continent\": \"Americas\", \"subContinent\": \"Nor...</td>\n",
       "      <td>1957458976293878100_1490380560</td>\n",
       "      <td>Not Socially Engaged</td>\n",
       "      <td>{\"visits\": \"1\", \"hits\": \"50\", \"pageviews\": \"39...</td>\n",
       "      <td>{\"campaign\": \"(not set)\", \"source\": \"dfa\", \"me...</td>\n",
       "      <td>1490380560</td>\n",
       "      <td>237</td>\n",
       "      <td>1490380560</td>\n",
       "      <td>8.677830e+09</td>\n",
       "    </tr>\n",
       "  </tbody>\n",
       "</table>\n",
       "</div>"
      ],
      "text/plain": [
       "       channelGrouping       date  \\\n",
       "375253         Display 2017-04-05   \n",
       "430822          Direct 2017-02-14   \n",
       "380988          Direct 2016-09-16   \n",
       "773715          Direct 2017-07-18   \n",
       "891576         Display 2017-03-24   \n",
       "\n",
       "                                                   device  \\\n",
       "375253  {\"browser\": \"Firefox\", \"browserVersion\": \"not ...   \n",
       "430822  {\"browser\": \"Firefox\", \"browserVersion\": \"not ...   \n",
       "380988  {\"browser\": \"Chrome\", \"browserVersion\": \"not a...   \n",
       "773715  {\"browser\": \"Chrome\", \"browserVersion\": \"not a...   \n",
       "891576  {\"browser\": \"Firefox\", \"browserVersion\": \"not ...   \n",
       "\n",
       "              fullVisitorId  \\\n",
       "375253  1957458976293878100   \n",
       "430822  1957458976293878100   \n",
       "380988  5632276788326171571   \n",
       "773715  9417857471295131045   \n",
       "891576  1957458976293878100   \n",
       "\n",
       "                                               geoNetwork  \\\n",
       "375253  {\"continent\": \"Americas\", \"subContinent\": \"Nor...   \n",
       "430822  {\"continent\": \"Americas\", \"subContinent\": \"Nor...   \n",
       "380988  {\"continent\": \"Americas\", \"subContinent\": \"Nor...   \n",
       "773715  {\"continent\": \"Americas\", \"subContinent\": \"Nor...   \n",
       "891576  {\"continent\": \"Americas\", \"subContinent\": \"Nor...   \n",
       "\n",
       "                             sessionId  socialEngagementType  \\\n",
       "375253  1957458976293878100_1491423580  Not Socially Engaged   \n",
       "430822  1957458976293878100_1487097028  Not Socially Engaged   \n",
       "380988  5632276788326171571_1474035643  Not Socially Engaged   \n",
       "773715  9417857471295131045_1500404409  Not Socially Engaged   \n",
       "891576  1957458976293878100_1490380560  Not Socially Engaged   \n",
       "\n",
       "                                                   totals  \\\n",
       "375253  {\"visits\": \"1\", \"hits\": \"58\", \"pageviews\": \"40...   \n",
       "430822  {\"visits\": \"1\", \"hits\": \"91\", \"pageviews\": \"64...   \n",
       "380988  {\"visits\": \"1\", \"hits\": \"136\", \"pageviews\": \"8...   \n",
       "773715  {\"visits\": \"1\", \"hits\": \"41\", \"pageviews\": \"30...   \n",
       "891576  {\"visits\": \"1\", \"hits\": \"50\", \"pageviews\": \"39...   \n",
       "\n",
       "                                            trafficSource     visitId  \\\n",
       "375253  {\"campaign\": \"(not set)\", \"source\": \"dfa\", \"me...  1491423580   \n",
       "430822  {\"campaign\": \"(not set)\", \"source\": \"(direct)\"...  1487097028   \n",
       "380988  {\"campaign\": \"(not set)\", \"source\": \"(direct)\"...  1474035643   \n",
       "773715  {\"campaign\": \"(not set)\", \"source\": \"(direct)\"...  1500404409   \n",
       "891576  {\"campaign\": \"(not set)\", \"source\": \"dfa\", \"me...  1490380560   \n",
       "\n",
       "        visitNumber  visitStartTime  transactionRevenue  \n",
       "375253          243      1491423580        2.312950e+10  \n",
       "430822          181      1487097028        1.785550e+10  \n",
       "380988            5      1474035643        1.602375e+10  \n",
       "773715            8      1500404409        1.058914e+10  \n",
       "891576          237      1490380560        8.677830e+09  "
      ]
     },
     "execution_count": 12,
     "metadata": {},
     "output_type": "execute_result"
    }
   ],
   "source": [
    "df_raw.sort_values(by=['transactionRevenue'], ascending=False).head()"
   ]
  },
  {
   "cell_type": "code",
   "execution_count": 14,
   "metadata": {},
   "outputs": [
    {
     "name": "stderr",
     "output_type": "stream",
     "text": [
      "/opt/conda/envs/fastai/lib/python3.6/site-packages/ipykernel_launcher.py:1: RuntimeWarning: divide by zero encountered in log\n",
      "  \"\"\"Entry point for launching an IPython kernel.\n"
     ]
    }
   ],
   "source": [
    "df_raw['transactionRevenueLog'] = np.log(df_raw.transactionRevenue)"
   ]
  },
  {
   "cell_type": "code",
   "execution_count": 16,
   "metadata": {},
   "outputs": [],
   "source": [
    "add_datepart(df_raw, 'date')"
   ]
  },
  {
   "cell_type": "code",
   "execution_count": 19,
   "metadata": {},
   "outputs": [
    {
     "data": {
      "text/plain": [
       "0    2016\n",
       "1    2016\n",
       "2    2016\n",
       "3    2016\n",
       "4    2016\n",
       "Name: Year, dtype: int64"
      ]
     },
     "execution_count": 19,
     "metadata": {},
     "output_type": "execute_result"
    }
   ],
   "source": [
    "df_raw.Year.head()"
   ]
  },
  {
   "cell_type": "code",
   "execution_count": 20,
   "metadata": {},
   "outputs": [],
   "source": [
    "train_cats(df_raw)"
   ]
  },
  {
   "cell_type": "code",
   "execution_count": 21,
   "metadata": {},
   "outputs": [
    {
     "data": {
      "text/html": [
       "<div>\n",
       "<style scoped>\n",
       "    .dataframe tbody tr th:only-of-type {\n",
       "        vertical-align: middle;\n",
       "    }\n",
       "\n",
       "    .dataframe tbody tr th {\n",
       "        vertical-align: top;\n",
       "    }\n",
       "\n",
       "    .dataframe thead th {\n",
       "        text-align: right;\n",
       "    }\n",
       "</style>\n",
       "<table border=\"1\" class=\"dataframe\">\n",
       "  <thead>\n",
       "    <tr style=\"text-align: right;\">\n",
       "      <th></th>\n",
       "      <th>channelGrouping</th>\n",
       "      <th>device</th>\n",
       "      <th>fullVisitorId</th>\n",
       "      <th>geoNetwork</th>\n",
       "      <th>sessionId</th>\n",
       "      <th>socialEngagementType</th>\n",
       "      <th>totals</th>\n",
       "      <th>trafficSource</th>\n",
       "      <th>visitId</th>\n",
       "      <th>visitNumber</th>\n",
       "      <th>...</th>\n",
       "      <th>Day</th>\n",
       "      <th>Dayofweek</th>\n",
       "      <th>Dayofyear</th>\n",
       "      <th>Is_month_end</th>\n",
       "      <th>Is_month_start</th>\n",
       "      <th>Is_quarter_end</th>\n",
       "      <th>Is_quarter_start</th>\n",
       "      <th>Is_year_end</th>\n",
       "      <th>Is_year_start</th>\n",
       "      <th>Elapsed</th>\n",
       "    </tr>\n",
       "  </thead>\n",
       "  <tbody>\n",
       "    <tr>\n",
       "      <th>0</th>\n",
       "      <td>Organic Search</td>\n",
       "      <td>{\"browser\": \"Chrome\", \"browserVersion\": \"not a...</td>\n",
       "      <td>1131660440785968503</td>\n",
       "      <td>{\"continent\": \"Asia\", \"subContinent\": \"Western...</td>\n",
       "      <td>1131660440785968503_1472830385</td>\n",
       "      <td>Not Socially Engaged</td>\n",
       "      <td>{\"visits\": \"1\", \"hits\": \"1\", \"pageviews\": \"1\",...</td>\n",
       "      <td>{\"campaign\": \"(not set)\", \"source\": \"google\", ...</td>\n",
       "      <td>1472830385</td>\n",
       "      <td>1</td>\n",
       "      <td>...</td>\n",
       "      <td>2</td>\n",
       "      <td>4</td>\n",
       "      <td>246</td>\n",
       "      <td>False</td>\n",
       "      <td>False</td>\n",
       "      <td>False</td>\n",
       "      <td>False</td>\n",
       "      <td>False</td>\n",
       "      <td>False</td>\n",
       "      <td>1472774400</td>\n",
       "    </tr>\n",
       "    <tr>\n",
       "      <th>1</th>\n",
       "      <td>Organic Search</td>\n",
       "      <td>{\"browser\": \"Firefox\", \"browserVersion\": \"not ...</td>\n",
       "      <td>377306020877927890</td>\n",
       "      <td>{\"continent\": \"Oceania\", \"subContinent\": \"Aust...</td>\n",
       "      <td>377306020877927890_1472880147</td>\n",
       "      <td>Not Socially Engaged</td>\n",
       "      <td>{\"visits\": \"1\", \"hits\": \"1\", \"pageviews\": \"1\",...</td>\n",
       "      <td>{\"campaign\": \"(not set)\", \"source\": \"google\", ...</td>\n",
       "      <td>1472880147</td>\n",
       "      <td>1</td>\n",
       "      <td>...</td>\n",
       "      <td>2</td>\n",
       "      <td>4</td>\n",
       "      <td>246</td>\n",
       "      <td>False</td>\n",
       "      <td>False</td>\n",
       "      <td>False</td>\n",
       "      <td>False</td>\n",
       "      <td>False</td>\n",
       "      <td>False</td>\n",
       "      <td>1472774400</td>\n",
       "    </tr>\n",
       "    <tr>\n",
       "      <th>2</th>\n",
       "      <td>Organic Search</td>\n",
       "      <td>{\"browser\": \"Chrome\", \"browserVersion\": \"not a...</td>\n",
       "      <td>3895546263509774583</td>\n",
       "      <td>{\"continent\": \"Europe\", \"subContinent\": \"South...</td>\n",
       "      <td>3895546263509774583_1472865386</td>\n",
       "      <td>Not Socially Engaged</td>\n",
       "      <td>{\"visits\": \"1\", \"hits\": \"1\", \"pageviews\": \"1\",...</td>\n",
       "      <td>{\"campaign\": \"(not set)\", \"source\": \"google\", ...</td>\n",
       "      <td>1472865386</td>\n",
       "      <td>1</td>\n",
       "      <td>...</td>\n",
       "      <td>2</td>\n",
       "      <td>4</td>\n",
       "      <td>246</td>\n",
       "      <td>False</td>\n",
       "      <td>False</td>\n",
       "      <td>False</td>\n",
       "      <td>False</td>\n",
       "      <td>False</td>\n",
       "      <td>False</td>\n",
       "      <td>1472774400</td>\n",
       "    </tr>\n",
       "    <tr>\n",
       "      <th>3</th>\n",
       "      <td>Organic Search</td>\n",
       "      <td>{\"browser\": \"UC Browser\", \"browserVersion\": \"n...</td>\n",
       "      <td>4763447161404445595</td>\n",
       "      <td>{\"continent\": \"Asia\", \"subContinent\": \"Southea...</td>\n",
       "      <td>4763447161404445595_1472881213</td>\n",
       "      <td>Not Socially Engaged</td>\n",
       "      <td>{\"visits\": \"1\", \"hits\": \"1\", \"pageviews\": \"1\",...</td>\n",
       "      <td>{\"campaign\": \"(not set)\", \"source\": \"google\", ...</td>\n",
       "      <td>1472881213</td>\n",
       "      <td>1</td>\n",
       "      <td>...</td>\n",
       "      <td>2</td>\n",
       "      <td>4</td>\n",
       "      <td>246</td>\n",
       "      <td>False</td>\n",
       "      <td>False</td>\n",
       "      <td>False</td>\n",
       "      <td>False</td>\n",
       "      <td>False</td>\n",
       "      <td>False</td>\n",
       "      <td>1472774400</td>\n",
       "    </tr>\n",
       "    <tr>\n",
       "      <th>4</th>\n",
       "      <td>Organic Search</td>\n",
       "      <td>{\"browser\": \"Chrome\", \"browserVersion\": \"not a...</td>\n",
       "      <td>27294437909732085</td>\n",
       "      <td>{\"continent\": \"Europe\", \"subContinent\": \"North...</td>\n",
       "      <td>27294437909732085_1472822600</td>\n",
       "      <td>Not Socially Engaged</td>\n",
       "      <td>{\"visits\": \"1\", \"hits\": \"1\", \"pageviews\": \"1\",...</td>\n",
       "      <td>{\"campaign\": \"(not set)\", \"source\": \"google\", ...</td>\n",
       "      <td>1472822600</td>\n",
       "      <td>2</td>\n",
       "      <td>...</td>\n",
       "      <td>2</td>\n",
       "      <td>4</td>\n",
       "      <td>246</td>\n",
       "      <td>False</td>\n",
       "      <td>False</td>\n",
       "      <td>False</td>\n",
       "      <td>False</td>\n",
       "      <td>False</td>\n",
       "      <td>False</td>\n",
       "      <td>1472774400</td>\n",
       "    </tr>\n",
       "  </tbody>\n",
       "</table>\n",
       "<p>5 rows × 26 columns</p>\n",
       "</div>"
      ],
      "text/plain": [
       "  channelGrouping                                             device  \\\n",
       "0  Organic Search  {\"browser\": \"Chrome\", \"browserVersion\": \"not a...   \n",
       "1  Organic Search  {\"browser\": \"Firefox\", \"browserVersion\": \"not ...   \n",
       "2  Organic Search  {\"browser\": \"Chrome\", \"browserVersion\": \"not a...   \n",
       "3  Organic Search  {\"browser\": \"UC Browser\", \"browserVersion\": \"n...   \n",
       "4  Organic Search  {\"browser\": \"Chrome\", \"browserVersion\": \"not a...   \n",
       "\n",
       "         fullVisitorId                                         geoNetwork  \\\n",
       "0  1131660440785968503  {\"continent\": \"Asia\", \"subContinent\": \"Western...   \n",
       "1   377306020877927890  {\"continent\": \"Oceania\", \"subContinent\": \"Aust...   \n",
       "2  3895546263509774583  {\"continent\": \"Europe\", \"subContinent\": \"South...   \n",
       "3  4763447161404445595  {\"continent\": \"Asia\", \"subContinent\": \"Southea...   \n",
       "4    27294437909732085  {\"continent\": \"Europe\", \"subContinent\": \"North...   \n",
       "\n",
       "                        sessionId  socialEngagementType  \\\n",
       "0  1131660440785968503_1472830385  Not Socially Engaged   \n",
       "1   377306020877927890_1472880147  Not Socially Engaged   \n",
       "2  3895546263509774583_1472865386  Not Socially Engaged   \n",
       "3  4763447161404445595_1472881213  Not Socially Engaged   \n",
       "4    27294437909732085_1472822600  Not Socially Engaged   \n",
       "\n",
       "                                              totals  \\\n",
       "0  {\"visits\": \"1\", \"hits\": \"1\", \"pageviews\": \"1\",...   \n",
       "1  {\"visits\": \"1\", \"hits\": \"1\", \"pageviews\": \"1\",...   \n",
       "2  {\"visits\": \"1\", \"hits\": \"1\", \"pageviews\": \"1\",...   \n",
       "3  {\"visits\": \"1\", \"hits\": \"1\", \"pageviews\": \"1\",...   \n",
       "4  {\"visits\": \"1\", \"hits\": \"1\", \"pageviews\": \"1\",...   \n",
       "\n",
       "                                       trafficSource     visitId  visitNumber  \\\n",
       "0  {\"campaign\": \"(not set)\", \"source\": \"google\", ...  1472830385            1   \n",
       "1  {\"campaign\": \"(not set)\", \"source\": \"google\", ...  1472880147            1   \n",
       "2  {\"campaign\": \"(not set)\", \"source\": \"google\", ...  1472865386            1   \n",
       "3  {\"campaign\": \"(not set)\", \"source\": \"google\", ...  1472881213            1   \n",
       "4  {\"campaign\": \"(not set)\", \"source\": \"google\", ...  1472822600            2   \n",
       "\n",
       "      ...      Day  Dayofweek  Dayofyear  Is_month_end  Is_month_start  \\\n",
       "0     ...        2          4        246         False           False   \n",
       "1     ...        2          4        246         False           False   \n",
       "2     ...        2          4        246         False           False   \n",
       "3     ...        2          4        246         False           False   \n",
       "4     ...        2          4        246         False           False   \n",
       "\n",
       "   Is_quarter_end  Is_quarter_start  Is_year_end  Is_year_start     Elapsed  \n",
       "0           False             False        False          False  1472774400  \n",
       "1           False             False        False          False  1472774400  \n",
       "2           False             False        False          False  1472774400  \n",
       "3           False             False        False          False  1472774400  \n",
       "4           False             False        False          False  1472774400  \n",
       "\n",
       "[5 rows x 26 columns]"
      ]
     },
     "execution_count": 21,
     "metadata": {},
     "output_type": "execute_result"
    }
   ],
   "source": [
    "df_raw.head()"
   ]
  },
  {
   "cell_type": "code",
   "execution_count": 23,
   "metadata": {},
   "outputs": [
    {
     "data": {
      "text/plain": [
       "Day                      0.0\n",
       "Dayofweek                0.0\n",
       "Dayofyear                0.0\n",
       "Elapsed                  0.0\n",
       "Is_month_end             0.0\n",
       "Is_month_start           0.0\n",
       "Is_quarter_end           0.0\n",
       "Is_quarter_start         0.0\n",
       "Is_year_end              0.0\n",
       "Is_year_start            0.0\n",
       "Month                    0.0\n",
       "Week                     0.0\n",
       "Year                     0.0\n",
       "channelGrouping          0.0\n",
       "device                   0.0\n",
       "fullVisitorId            0.0\n",
       "geoNetwork               0.0\n",
       "sessionId                0.0\n",
       "socialEngagementType     0.0\n",
       "totals                   0.0\n",
       "trafficSource            0.0\n",
       "transactionRevenue       0.0\n",
       "transactionRevenueLog    0.0\n",
       "visitId                  0.0\n",
       "visitNumber              0.0\n",
       "visitStartTime           0.0\n",
       "dtype: float64"
      ]
     },
     "execution_count": 23,
     "metadata": {},
     "output_type": "execute_result"
    }
   ],
   "source": [
    "df_raw.isnull().sum().sort_index()/len(df_raw)"
   ]
  },
  {
   "cell_type": "code",
   "execution_count": 24,
   "metadata": {},
   "outputs": [
    {
     "data": {
      "text/html": [
       "<div>\n",
       "<style scoped>\n",
       "    .dataframe tbody tr th:only-of-type {\n",
       "        vertical-align: middle;\n",
       "    }\n",
       "\n",
       "    .dataframe tbody tr th {\n",
       "        vertical-align: top;\n",
       "    }\n",
       "\n",
       "    .dataframe thead th {\n",
       "        text-align: right;\n",
       "    }\n",
       "</style>\n",
       "<table border=\"1\" class=\"dataframe\">\n",
       "  <thead>\n",
       "    <tr style=\"text-align: right;\">\n",
       "      <th></th>\n",
       "      <th>channelGrouping</th>\n",
       "      <th>device</th>\n",
       "      <th>fullVisitorId</th>\n",
       "      <th>geoNetwork</th>\n",
       "      <th>sessionId</th>\n",
       "      <th>socialEngagementType</th>\n",
       "      <th>totals</th>\n",
       "      <th>trafficSource</th>\n",
       "      <th>visitId</th>\n",
       "      <th>visitNumber</th>\n",
       "      <th>...</th>\n",
       "      <th>Day</th>\n",
       "      <th>Dayofweek</th>\n",
       "      <th>Dayofyear</th>\n",
       "      <th>Is_month_end</th>\n",
       "      <th>Is_month_start</th>\n",
       "      <th>Is_quarter_end</th>\n",
       "      <th>Is_quarter_start</th>\n",
       "      <th>Is_year_end</th>\n",
       "      <th>Is_year_start</th>\n",
       "      <th>Elapsed</th>\n",
       "    </tr>\n",
       "  </thead>\n",
       "  <tbody>\n",
       "    <tr>\n",
       "      <th>0</th>\n",
       "      <td>Organic Search</td>\n",
       "      <td>{\"browser\": \"Chrome\", \"browserVersion\": \"not a...</td>\n",
       "      <td>1131660440785968503</td>\n",
       "      <td>{\"continent\": \"Asia\", \"subContinent\": \"Western...</td>\n",
       "      <td>1131660440785968503_1472830385</td>\n",
       "      <td>Not Socially Engaged</td>\n",
       "      <td>{\"visits\": \"1\", \"hits\": \"1\", \"pageviews\": \"1\",...</td>\n",
       "      <td>{\"campaign\": \"(not set)\", \"source\": \"google\", ...</td>\n",
       "      <td>1472830385</td>\n",
       "      <td>1</td>\n",
       "      <td>...</td>\n",
       "      <td>2</td>\n",
       "      <td>4</td>\n",
       "      <td>246</td>\n",
       "      <td>False</td>\n",
       "      <td>False</td>\n",
       "      <td>False</td>\n",
       "      <td>False</td>\n",
       "      <td>False</td>\n",
       "      <td>False</td>\n",
       "      <td>1472774400</td>\n",
       "    </tr>\n",
       "    <tr>\n",
       "      <th>1</th>\n",
       "      <td>Organic Search</td>\n",
       "      <td>{\"browser\": \"Firefox\", \"browserVersion\": \"not ...</td>\n",
       "      <td>377306020877927890</td>\n",
       "      <td>{\"continent\": \"Oceania\", \"subContinent\": \"Aust...</td>\n",
       "      <td>377306020877927890_1472880147</td>\n",
       "      <td>Not Socially Engaged</td>\n",
       "      <td>{\"visits\": \"1\", \"hits\": \"1\", \"pageviews\": \"1\",...</td>\n",
       "      <td>{\"campaign\": \"(not set)\", \"source\": \"google\", ...</td>\n",
       "      <td>1472880147</td>\n",
       "      <td>1</td>\n",
       "      <td>...</td>\n",
       "      <td>2</td>\n",
       "      <td>4</td>\n",
       "      <td>246</td>\n",
       "      <td>False</td>\n",
       "      <td>False</td>\n",
       "      <td>False</td>\n",
       "      <td>False</td>\n",
       "      <td>False</td>\n",
       "      <td>False</td>\n",
       "      <td>1472774400</td>\n",
       "    </tr>\n",
       "    <tr>\n",
       "      <th>2</th>\n",
       "      <td>Organic Search</td>\n",
       "      <td>{\"browser\": \"Chrome\", \"browserVersion\": \"not a...</td>\n",
       "      <td>3895546263509774583</td>\n",
       "      <td>{\"continent\": \"Europe\", \"subContinent\": \"South...</td>\n",
       "      <td>3895546263509774583_1472865386</td>\n",
       "      <td>Not Socially Engaged</td>\n",
       "      <td>{\"visits\": \"1\", \"hits\": \"1\", \"pageviews\": \"1\",...</td>\n",
       "      <td>{\"campaign\": \"(not set)\", \"source\": \"google\", ...</td>\n",
       "      <td>1472865386</td>\n",
       "      <td>1</td>\n",
       "      <td>...</td>\n",
       "      <td>2</td>\n",
       "      <td>4</td>\n",
       "      <td>246</td>\n",
       "      <td>False</td>\n",
       "      <td>False</td>\n",
       "      <td>False</td>\n",
       "      <td>False</td>\n",
       "      <td>False</td>\n",
       "      <td>False</td>\n",
       "      <td>1472774400</td>\n",
       "    </tr>\n",
       "    <tr>\n",
       "      <th>3</th>\n",
       "      <td>Organic Search</td>\n",
       "      <td>{\"browser\": \"UC Browser\", \"browserVersion\": \"n...</td>\n",
       "      <td>4763447161404445595</td>\n",
       "      <td>{\"continent\": \"Asia\", \"subContinent\": \"Southea...</td>\n",
       "      <td>4763447161404445595_1472881213</td>\n",
       "      <td>Not Socially Engaged</td>\n",
       "      <td>{\"visits\": \"1\", \"hits\": \"1\", \"pageviews\": \"1\",...</td>\n",
       "      <td>{\"campaign\": \"(not set)\", \"source\": \"google\", ...</td>\n",
       "      <td>1472881213</td>\n",
       "      <td>1</td>\n",
       "      <td>...</td>\n",
       "      <td>2</td>\n",
       "      <td>4</td>\n",
       "      <td>246</td>\n",
       "      <td>False</td>\n",
       "      <td>False</td>\n",
       "      <td>False</td>\n",
       "      <td>False</td>\n",
       "      <td>False</td>\n",
       "      <td>False</td>\n",
       "      <td>1472774400</td>\n",
       "    </tr>\n",
       "    <tr>\n",
       "      <th>4</th>\n",
       "      <td>Organic Search</td>\n",
       "      <td>{\"browser\": \"Chrome\", \"browserVersion\": \"not a...</td>\n",
       "      <td>27294437909732085</td>\n",
       "      <td>{\"continent\": \"Europe\", \"subContinent\": \"North...</td>\n",
       "      <td>27294437909732085_1472822600</td>\n",
       "      <td>Not Socially Engaged</td>\n",
       "      <td>{\"visits\": \"1\", \"hits\": \"1\", \"pageviews\": \"1\",...</td>\n",
       "      <td>{\"campaign\": \"(not set)\", \"source\": \"google\", ...</td>\n",
       "      <td>1472822600</td>\n",
       "      <td>2</td>\n",
       "      <td>...</td>\n",
       "      <td>2</td>\n",
       "      <td>4</td>\n",
       "      <td>246</td>\n",
       "      <td>False</td>\n",
       "      <td>False</td>\n",
       "      <td>False</td>\n",
       "      <td>False</td>\n",
       "      <td>False</td>\n",
       "      <td>False</td>\n",
       "      <td>1472774400</td>\n",
       "    </tr>\n",
       "  </tbody>\n",
       "</table>\n",
       "<p>5 rows × 26 columns</p>\n",
       "</div>"
      ],
      "text/plain": [
       "  channelGrouping                                             device  \\\n",
       "0  Organic Search  {\"browser\": \"Chrome\", \"browserVersion\": \"not a...   \n",
       "1  Organic Search  {\"browser\": \"Firefox\", \"browserVersion\": \"not ...   \n",
       "2  Organic Search  {\"browser\": \"Chrome\", \"browserVersion\": \"not a...   \n",
       "3  Organic Search  {\"browser\": \"UC Browser\", \"browserVersion\": \"n...   \n",
       "4  Organic Search  {\"browser\": \"Chrome\", \"browserVersion\": \"not a...   \n",
       "\n",
       "         fullVisitorId                                         geoNetwork  \\\n",
       "0  1131660440785968503  {\"continent\": \"Asia\", \"subContinent\": \"Western...   \n",
       "1   377306020877927890  {\"continent\": \"Oceania\", \"subContinent\": \"Aust...   \n",
       "2  3895546263509774583  {\"continent\": \"Europe\", \"subContinent\": \"South...   \n",
       "3  4763447161404445595  {\"continent\": \"Asia\", \"subContinent\": \"Southea...   \n",
       "4    27294437909732085  {\"continent\": \"Europe\", \"subContinent\": \"North...   \n",
       "\n",
       "                        sessionId  socialEngagementType  \\\n",
       "0  1131660440785968503_1472830385  Not Socially Engaged   \n",
       "1   377306020877927890_1472880147  Not Socially Engaged   \n",
       "2  3895546263509774583_1472865386  Not Socially Engaged   \n",
       "3  4763447161404445595_1472881213  Not Socially Engaged   \n",
       "4    27294437909732085_1472822600  Not Socially Engaged   \n",
       "\n",
       "                                              totals  \\\n",
       "0  {\"visits\": \"1\", \"hits\": \"1\", \"pageviews\": \"1\",...   \n",
       "1  {\"visits\": \"1\", \"hits\": \"1\", \"pageviews\": \"1\",...   \n",
       "2  {\"visits\": \"1\", \"hits\": \"1\", \"pageviews\": \"1\",...   \n",
       "3  {\"visits\": \"1\", \"hits\": \"1\", \"pageviews\": \"1\",...   \n",
       "4  {\"visits\": \"1\", \"hits\": \"1\", \"pageviews\": \"1\",...   \n",
       "\n",
       "                                       trafficSource     visitId  visitNumber  \\\n",
       "0  {\"campaign\": \"(not set)\", \"source\": \"google\", ...  1472830385            1   \n",
       "1  {\"campaign\": \"(not set)\", \"source\": \"google\", ...  1472880147            1   \n",
       "2  {\"campaign\": \"(not set)\", \"source\": \"google\", ...  1472865386            1   \n",
       "3  {\"campaign\": \"(not set)\", \"source\": \"google\", ...  1472881213            1   \n",
       "4  {\"campaign\": \"(not set)\", \"source\": \"google\", ...  1472822600            2   \n",
       "\n",
       "      ...      Day  Dayofweek  Dayofyear  Is_month_end  Is_month_start  \\\n",
       "0     ...        2          4        246         False           False   \n",
       "1     ...        2          4        246         False           False   \n",
       "2     ...        2          4        246         False           False   \n",
       "3     ...        2          4        246         False           False   \n",
       "4     ...        2          4        246         False           False   \n",
       "\n",
       "   Is_quarter_end  Is_quarter_start  Is_year_end  Is_year_start     Elapsed  \n",
       "0           False             False        False          False  1472774400  \n",
       "1           False             False        False          False  1472774400  \n",
       "2           False             False        False          False  1472774400  \n",
       "3           False             False        False          False  1472774400  \n",
       "4           False             False        False          False  1472774400  \n",
       "\n",
       "[5 rows x 26 columns]"
      ]
     },
     "execution_count": 24,
     "metadata": {},
     "output_type": "execute_result"
    }
   ],
   "source": [
    "df_raw.head()"
   ]
  },
  {
   "cell_type": "code",
   "execution_count": 26,
   "metadata": {},
   "outputs": [],
   "source": [
    "os.makedirs('tmp', exist_ok=True)\n",
    "df_raw.to_feather('tmp/ga-customer-revenue-prediction')"
   ]
  },
  {
   "cell_type": "markdown",
   "metadata": {},
   "source": [
    "### Pre-processing"
   ]
  },
  {
   "cell_type": "code",
   "execution_count": 18,
   "metadata": {},
   "outputs": [],
   "source": [
    "df_raw = pd.read_feather('tmp/ga-customer-revenue-prediction')"
   ]
  },
  {
   "cell_type": "code",
   "execution_count": 23,
   "metadata": {},
   "outputs": [
    {
     "data": {
      "text/plain": [
       "dict_keys(['browser', 'browserVersion', 'browserSize', 'operatingSystem', 'operatingSystemVersion', 'isMobile', 'mobileDeviceBranding', 'mobileDeviceModel', 'mobileInputSelector', 'mobileDeviceInfo', 'mobileDeviceMarketingName', 'flashVersion', 'language', 'screenColors', 'screenResolution', 'deviceCategory'])"
      ]
     },
     "execution_count": 23,
     "metadata": {},
     "output_type": "execute_result"
    }
   ],
   "source": [
    "json.loads(df_raw['device'][0]).keys()"
   ]
  },
  {
   "cell_type": "code",
   "execution_count": 28,
   "metadata": {},
   "outputs": [
    {
     "name": "stdout",
     "output_type": "stream",
     "text": [
      "visits\n",
      "hits\n",
      "pageviews\n",
      "bounces\n",
      "newVisits\n"
     ]
    }
   ],
   "source": [
    "for k in json.loads(df_raw['totals'][0]).keys():\n",
    "    print(k)\n",
    "    df_raw[k] = df_raw['totals'].map(lambda x: int(json.loads(x).get(k, 0)))"
   ]
  },
  {
   "cell_type": "code",
   "execution_count": 26,
   "metadata": {},
   "outputs": [
    {
     "name": "stdout",
     "output_type": "stream",
     "text": [
      "browser\n",
      "browserVersion\n",
      "browserSize\n",
      "operatingSystem\n",
      "operatingSystemVersion\n",
      "isMobile\n",
      "mobileDeviceBranding\n",
      "mobileDeviceModel\n",
      "mobileInputSelector\n",
      "mobileDeviceInfo\n",
      "mobileDeviceMarketingName\n",
      "flashVersion\n",
      "language\n",
      "screenColors\n",
      "screenResolution\n",
      "deviceCategory\n"
     ]
    }
   ],
   "source": [
    "for k in json.loads(df_raw['device'][0]).keys():\n",
    "    print(k)\n",
    "    df_raw[k] = df_raw['device'].map(lambda x: json.loads(x).get(k))"
   ]
  },
  {
   "cell_type": "code",
   "execution_count": 36,
   "metadata": {},
   "outputs": [
    {
     "name": "stdout",
     "output_type": "stream",
     "text": [
      "campaign\n",
      "source\n",
      "medium\n",
      "keyword\n",
      "adwordsClickInfo\n"
     ]
    }
   ],
   "source": [
    "for k in json.loads(df_raw['trafficSource'][0]).keys():\n",
    "    print(k)\n",
    "    if k == 'adwordsClickInfo':\n",
    "        continue\n",
    "    else:\n",
    "        df_raw[k] = df_raw['trafficSource'].map(lambda x: json.loads(x).get(k))"
   ]
  },
  {
   "cell_type": "code",
   "execution_count": 38,
   "metadata": {},
   "outputs": [
    {
     "name": "stdout",
     "output_type": "stream",
     "text": [
      "continent\n",
      "subContinent\n",
      "country\n",
      "region\n",
      "metro\n",
      "city\n",
      "cityId\n",
      "networkDomain\n",
      "latitude\n",
      "longitude\n",
      "networkLocation\n"
     ]
    }
   ],
   "source": [
    "for k in json.loads(df_raw['geoNetwork'][0]).keys():\n",
    "    print(k)\n",
    "    df_raw[k] = df_raw['geoNetwork'].map(lambda x: json.loads(x).get(k))"
   ]
  },
  {
   "cell_type": "code",
   "execution_count": 39,
   "metadata": {},
   "outputs": [
    {
     "data": {
      "text/html": [
       "<div>\n",
       "<style scoped>\n",
       "    .dataframe tbody tr th:only-of-type {\n",
       "        vertical-align: middle;\n",
       "    }\n",
       "\n",
       "    .dataframe tbody tr th {\n",
       "        vertical-align: top;\n",
       "    }\n",
       "\n",
       "    .dataframe thead th {\n",
       "        text-align: right;\n",
       "    }\n",
       "</style>\n",
       "<table border=\"1\" class=\"dataframe\">\n",
       "  <thead>\n",
       "    <tr style=\"text-align: right;\">\n",
       "      <th></th>\n",
       "      <th>channelGrouping</th>\n",
       "      <th>device</th>\n",
       "      <th>fullVisitorId</th>\n",
       "      <th>geoNetwork</th>\n",
       "      <th>sessionId</th>\n",
       "      <th>socialEngagementType</th>\n",
       "      <th>totals</th>\n",
       "      <th>trafficSource</th>\n",
       "      <th>visitId</th>\n",
       "      <th>visitNumber</th>\n",
       "      <th>...</th>\n",
       "      <th>subContinent</th>\n",
       "      <th>country</th>\n",
       "      <th>region</th>\n",
       "      <th>metro</th>\n",
       "      <th>city</th>\n",
       "      <th>cityId</th>\n",
       "      <th>networkDomain</th>\n",
       "      <th>latitude</th>\n",
       "      <th>longitude</th>\n",
       "      <th>networkLocation</th>\n",
       "    </tr>\n",
       "  </thead>\n",
       "  <tbody>\n",
       "    <tr>\n",
       "      <th>0</th>\n",
       "      <td>Organic Search</td>\n",
       "      <td>{\"browser\": \"Chrome\", \"browserVersion\": \"not a...</td>\n",
       "      <td>1131660440785968503</td>\n",
       "      <td>{\"continent\": \"Asia\", \"subContinent\": \"Western...</td>\n",
       "      <td>1131660440785968503_1472830385</td>\n",
       "      <td>Not Socially Engaged</td>\n",
       "      <td>{\"visits\": \"1\", \"hits\": \"1\", \"pageviews\": \"1\",...</td>\n",
       "      <td>{\"campaign\": \"(not set)\", \"source\": \"google\", ...</td>\n",
       "      <td>1472830385</td>\n",
       "      <td>1</td>\n",
       "      <td>...</td>\n",
       "      <td>Western Asia</td>\n",
       "      <td>Turkey</td>\n",
       "      <td>Izmir</td>\n",
       "      <td>(not set)</td>\n",
       "      <td>Izmir</td>\n",
       "      <td>not available in demo dataset</td>\n",
       "      <td>ttnet.com.tr</td>\n",
       "      <td>not available in demo dataset</td>\n",
       "      <td>not available in demo dataset</td>\n",
       "      <td>not available in demo dataset</td>\n",
       "    </tr>\n",
       "    <tr>\n",
       "      <th>1</th>\n",
       "      <td>Organic Search</td>\n",
       "      <td>{\"browser\": \"Firefox\", \"browserVersion\": \"not ...</td>\n",
       "      <td>377306020877927890</td>\n",
       "      <td>{\"continent\": \"Oceania\", \"subContinent\": \"Aust...</td>\n",
       "      <td>377306020877927890_1472880147</td>\n",
       "      <td>Not Socially Engaged</td>\n",
       "      <td>{\"visits\": \"1\", \"hits\": \"1\", \"pageviews\": \"1\",...</td>\n",
       "      <td>{\"campaign\": \"(not set)\", \"source\": \"google\", ...</td>\n",
       "      <td>1472880147</td>\n",
       "      <td>1</td>\n",
       "      <td>...</td>\n",
       "      <td>Australasia</td>\n",
       "      <td>Australia</td>\n",
       "      <td>not available in demo dataset</td>\n",
       "      <td>not available in demo dataset</td>\n",
       "      <td>not available in demo dataset</td>\n",
       "      <td>not available in demo dataset</td>\n",
       "      <td>dodo.net.au</td>\n",
       "      <td>not available in demo dataset</td>\n",
       "      <td>not available in demo dataset</td>\n",
       "      <td>not available in demo dataset</td>\n",
       "    </tr>\n",
       "    <tr>\n",
       "      <th>2</th>\n",
       "      <td>Organic Search</td>\n",
       "      <td>{\"browser\": \"Chrome\", \"browserVersion\": \"not a...</td>\n",
       "      <td>3895546263509774583</td>\n",
       "      <td>{\"continent\": \"Europe\", \"subContinent\": \"South...</td>\n",
       "      <td>3895546263509774583_1472865386</td>\n",
       "      <td>Not Socially Engaged</td>\n",
       "      <td>{\"visits\": \"1\", \"hits\": \"1\", \"pageviews\": \"1\",...</td>\n",
       "      <td>{\"campaign\": \"(not set)\", \"source\": \"google\", ...</td>\n",
       "      <td>1472865386</td>\n",
       "      <td>1</td>\n",
       "      <td>...</td>\n",
       "      <td>Southern Europe</td>\n",
       "      <td>Spain</td>\n",
       "      <td>Community of Madrid</td>\n",
       "      <td>(not set)</td>\n",
       "      <td>Madrid</td>\n",
       "      <td>not available in demo dataset</td>\n",
       "      <td>unknown.unknown</td>\n",
       "      <td>not available in demo dataset</td>\n",
       "      <td>not available in demo dataset</td>\n",
       "      <td>not available in demo dataset</td>\n",
       "    </tr>\n",
       "    <tr>\n",
       "      <th>3</th>\n",
       "      <td>Organic Search</td>\n",
       "      <td>{\"browser\": \"UC Browser\", \"browserVersion\": \"n...</td>\n",
       "      <td>4763447161404445595</td>\n",
       "      <td>{\"continent\": \"Asia\", \"subContinent\": \"Southea...</td>\n",
       "      <td>4763447161404445595_1472881213</td>\n",
       "      <td>Not Socially Engaged</td>\n",
       "      <td>{\"visits\": \"1\", \"hits\": \"1\", \"pageviews\": \"1\",...</td>\n",
       "      <td>{\"campaign\": \"(not set)\", \"source\": \"google\", ...</td>\n",
       "      <td>1472881213</td>\n",
       "      <td>1</td>\n",
       "      <td>...</td>\n",
       "      <td>Southeast Asia</td>\n",
       "      <td>Indonesia</td>\n",
       "      <td>not available in demo dataset</td>\n",
       "      <td>not available in demo dataset</td>\n",
       "      <td>not available in demo dataset</td>\n",
       "      <td>not available in demo dataset</td>\n",
       "      <td>unknown.unknown</td>\n",
       "      <td>not available in demo dataset</td>\n",
       "      <td>not available in demo dataset</td>\n",
       "      <td>not available in demo dataset</td>\n",
       "    </tr>\n",
       "    <tr>\n",
       "      <th>4</th>\n",
       "      <td>Organic Search</td>\n",
       "      <td>{\"browser\": \"Chrome\", \"browserVersion\": \"not a...</td>\n",
       "      <td>27294437909732085</td>\n",
       "      <td>{\"continent\": \"Europe\", \"subContinent\": \"North...</td>\n",
       "      <td>27294437909732085_1472822600</td>\n",
       "      <td>Not Socially Engaged</td>\n",
       "      <td>{\"visits\": \"1\", \"hits\": \"1\", \"pageviews\": \"1\",...</td>\n",
       "      <td>{\"campaign\": \"(not set)\", \"source\": \"google\", ...</td>\n",
       "      <td>1472822600</td>\n",
       "      <td>2</td>\n",
       "      <td>...</td>\n",
       "      <td>Northern Europe</td>\n",
       "      <td>United Kingdom</td>\n",
       "      <td>not available in demo dataset</td>\n",
       "      <td>not available in demo dataset</td>\n",
       "      <td>not available in demo dataset</td>\n",
       "      <td>not available in demo dataset</td>\n",
       "      <td>unknown.unknown</td>\n",
       "      <td>not available in demo dataset</td>\n",
       "      <td>not available in demo dataset</td>\n",
       "      <td>not available in demo dataset</td>\n",
       "    </tr>\n",
       "  </tbody>\n",
       "</table>\n",
       "<p>5 rows × 62 columns</p>\n",
       "</div>"
      ],
      "text/plain": [
       "  channelGrouping                                             device  \\\n",
       "0  Organic Search  {\"browser\": \"Chrome\", \"browserVersion\": \"not a...   \n",
       "1  Organic Search  {\"browser\": \"Firefox\", \"browserVersion\": \"not ...   \n",
       "2  Organic Search  {\"browser\": \"Chrome\", \"browserVersion\": \"not a...   \n",
       "3  Organic Search  {\"browser\": \"UC Browser\", \"browserVersion\": \"n...   \n",
       "4  Organic Search  {\"browser\": \"Chrome\", \"browserVersion\": \"not a...   \n",
       "\n",
       "         fullVisitorId                                         geoNetwork  \\\n",
       "0  1131660440785968503  {\"continent\": \"Asia\", \"subContinent\": \"Western...   \n",
       "1   377306020877927890  {\"continent\": \"Oceania\", \"subContinent\": \"Aust...   \n",
       "2  3895546263509774583  {\"continent\": \"Europe\", \"subContinent\": \"South...   \n",
       "3  4763447161404445595  {\"continent\": \"Asia\", \"subContinent\": \"Southea...   \n",
       "4    27294437909732085  {\"continent\": \"Europe\", \"subContinent\": \"North...   \n",
       "\n",
       "                        sessionId  socialEngagementType  \\\n",
       "0  1131660440785968503_1472830385  Not Socially Engaged   \n",
       "1   377306020877927890_1472880147  Not Socially Engaged   \n",
       "2  3895546263509774583_1472865386  Not Socially Engaged   \n",
       "3  4763447161404445595_1472881213  Not Socially Engaged   \n",
       "4    27294437909732085_1472822600  Not Socially Engaged   \n",
       "\n",
       "                                              totals  \\\n",
       "0  {\"visits\": \"1\", \"hits\": \"1\", \"pageviews\": \"1\",...   \n",
       "1  {\"visits\": \"1\", \"hits\": \"1\", \"pageviews\": \"1\",...   \n",
       "2  {\"visits\": \"1\", \"hits\": \"1\", \"pageviews\": \"1\",...   \n",
       "3  {\"visits\": \"1\", \"hits\": \"1\", \"pageviews\": \"1\",...   \n",
       "4  {\"visits\": \"1\", \"hits\": \"1\", \"pageviews\": \"1\",...   \n",
       "\n",
       "                                       trafficSource     visitId  visitNumber  \\\n",
       "0  {\"campaign\": \"(not set)\", \"source\": \"google\", ...  1472830385            1   \n",
       "1  {\"campaign\": \"(not set)\", \"source\": \"google\", ...  1472880147            1   \n",
       "2  {\"campaign\": \"(not set)\", \"source\": \"google\", ...  1472865386            1   \n",
       "3  {\"campaign\": \"(not set)\", \"source\": \"google\", ...  1472881213            1   \n",
       "4  {\"campaign\": \"(not set)\", \"source\": \"google\", ...  1472822600            2   \n",
       "\n",
       "               ...                   subContinent         country  \\\n",
       "0              ...                   Western Asia          Turkey   \n",
       "1              ...                    Australasia       Australia   \n",
       "2              ...                Southern Europe           Spain   \n",
       "3              ...                 Southeast Asia       Indonesia   \n",
       "4              ...                Northern Europe  United Kingdom   \n",
       "\n",
       "                          region                          metro  \\\n",
       "0                          Izmir                      (not set)   \n",
       "1  not available in demo dataset  not available in demo dataset   \n",
       "2            Community of Madrid                      (not set)   \n",
       "3  not available in demo dataset  not available in demo dataset   \n",
       "4  not available in demo dataset  not available in demo dataset   \n",
       "\n",
       "                            city                         cityId  \\\n",
       "0                          Izmir  not available in demo dataset   \n",
       "1  not available in demo dataset  not available in demo dataset   \n",
       "2                         Madrid  not available in demo dataset   \n",
       "3  not available in demo dataset  not available in demo dataset   \n",
       "4  not available in demo dataset  not available in demo dataset   \n",
       "\n",
       "     networkDomain                       latitude  \\\n",
       "0     ttnet.com.tr  not available in demo dataset   \n",
       "1      dodo.net.au  not available in demo dataset   \n",
       "2  unknown.unknown  not available in demo dataset   \n",
       "3  unknown.unknown  not available in demo dataset   \n",
       "4  unknown.unknown  not available in demo dataset   \n",
       "\n",
       "                       longitude                networkLocation  \n",
       "0  not available in demo dataset  not available in demo dataset  \n",
       "1  not available in demo dataset  not available in demo dataset  \n",
       "2  not available in demo dataset  not available in demo dataset  \n",
       "3  not available in demo dataset  not available in demo dataset  \n",
       "4  not available in demo dataset  not available in demo dataset  \n",
       "\n",
       "[5 rows x 62 columns]"
      ]
     },
     "execution_count": 39,
     "metadata": {},
     "output_type": "execute_result"
    }
   ],
   "source": [
    "df_raw.head()"
   ]
  },
  {
   "cell_type": "code",
   "execution_count": 41,
   "metadata": {},
   "outputs": [],
   "source": [
    "without_json = df_raw.drop(['device', 'totals', 'trafficSource', 'geoNetwork'], axis=1)"
   ]
  },
  {
   "cell_type": "code",
   "execution_count": 53,
   "metadata": {},
   "outputs": [
    {
     "data": {
      "text/html": [
       "<div>\n",
       "<style scoped>\n",
       "    .dataframe tbody tr th:only-of-type {\n",
       "        vertical-align: middle;\n",
       "    }\n",
       "\n",
       "    .dataframe tbody tr th {\n",
       "        vertical-align: top;\n",
       "    }\n",
       "\n",
       "    .dataframe thead th {\n",
       "        text-align: right;\n",
       "    }\n",
       "</style>\n",
       "<table border=\"1\" class=\"dataframe\">\n",
       "  <thead>\n",
       "    <tr style=\"text-align: right;\">\n",
       "      <th></th>\n",
       "      <th>channelGrouping</th>\n",
       "      <th>fullVisitorId</th>\n",
       "      <th>sessionId</th>\n",
       "      <th>socialEngagementType</th>\n",
       "      <th>visitId</th>\n",
       "      <th>visitNumber</th>\n",
       "      <th>visitStartTime</th>\n",
       "      <th>transactionRevenue</th>\n",
       "      <th>transactionRevenueLog</th>\n",
       "      <th>Year</th>\n",
       "      <th>...</th>\n",
       "      <th>subContinent</th>\n",
       "      <th>country</th>\n",
       "      <th>region</th>\n",
       "      <th>metro</th>\n",
       "      <th>city</th>\n",
       "      <th>cityId</th>\n",
       "      <th>networkDomain</th>\n",
       "      <th>latitude</th>\n",
       "      <th>longitude</th>\n",
       "      <th>networkLocation</th>\n",
       "    </tr>\n",
       "  </thead>\n",
       "  <tbody>\n",
       "    <tr>\n",
       "      <th>0</th>\n",
       "      <td>Organic Search</td>\n",
       "      <td>1131660440785968503</td>\n",
       "      <td>1131660440785968503_1472830385</td>\n",
       "      <td>Not Socially Engaged</td>\n",
       "      <td>1472830385</td>\n",
       "      <td>1</td>\n",
       "      <td>1472830385</td>\n",
       "      <td>0.0</td>\n",
       "      <td>-inf</td>\n",
       "      <td>2016</td>\n",
       "      <td>...</td>\n",
       "      <td>Western Asia</td>\n",
       "      <td>Turkey</td>\n",
       "      <td>Izmir</td>\n",
       "      <td>(not set)</td>\n",
       "      <td>Izmir</td>\n",
       "      <td>not available in demo dataset</td>\n",
       "      <td>ttnet.com.tr</td>\n",
       "      <td>not available in demo dataset</td>\n",
       "      <td>not available in demo dataset</td>\n",
       "      <td>not available in demo dataset</td>\n",
       "    </tr>\n",
       "    <tr>\n",
       "      <th>1</th>\n",
       "      <td>Organic Search</td>\n",
       "      <td>377306020877927890</td>\n",
       "      <td>377306020877927890_1472880147</td>\n",
       "      <td>Not Socially Engaged</td>\n",
       "      <td>1472880147</td>\n",
       "      <td>1</td>\n",
       "      <td>1472880147</td>\n",
       "      <td>0.0</td>\n",
       "      <td>-inf</td>\n",
       "      <td>2016</td>\n",
       "      <td>...</td>\n",
       "      <td>Australasia</td>\n",
       "      <td>Australia</td>\n",
       "      <td>not available in demo dataset</td>\n",
       "      <td>not available in demo dataset</td>\n",
       "      <td>not available in demo dataset</td>\n",
       "      <td>not available in demo dataset</td>\n",
       "      <td>dodo.net.au</td>\n",
       "      <td>not available in demo dataset</td>\n",
       "      <td>not available in demo dataset</td>\n",
       "      <td>not available in demo dataset</td>\n",
       "    </tr>\n",
       "    <tr>\n",
       "      <th>2</th>\n",
       "      <td>Organic Search</td>\n",
       "      <td>3895546263509774583</td>\n",
       "      <td>3895546263509774583_1472865386</td>\n",
       "      <td>Not Socially Engaged</td>\n",
       "      <td>1472865386</td>\n",
       "      <td>1</td>\n",
       "      <td>1472865386</td>\n",
       "      <td>0.0</td>\n",
       "      <td>-inf</td>\n",
       "      <td>2016</td>\n",
       "      <td>...</td>\n",
       "      <td>Southern Europe</td>\n",
       "      <td>Spain</td>\n",
       "      <td>Community of Madrid</td>\n",
       "      <td>(not set)</td>\n",
       "      <td>Madrid</td>\n",
       "      <td>not available in demo dataset</td>\n",
       "      <td>unknown.unknown</td>\n",
       "      <td>not available in demo dataset</td>\n",
       "      <td>not available in demo dataset</td>\n",
       "      <td>not available in demo dataset</td>\n",
       "    </tr>\n",
       "    <tr>\n",
       "      <th>3</th>\n",
       "      <td>Organic Search</td>\n",
       "      <td>4763447161404445595</td>\n",
       "      <td>4763447161404445595_1472881213</td>\n",
       "      <td>Not Socially Engaged</td>\n",
       "      <td>1472881213</td>\n",
       "      <td>1</td>\n",
       "      <td>1472881213</td>\n",
       "      <td>0.0</td>\n",
       "      <td>-inf</td>\n",
       "      <td>2016</td>\n",
       "      <td>...</td>\n",
       "      <td>Southeast Asia</td>\n",
       "      <td>Indonesia</td>\n",
       "      <td>not available in demo dataset</td>\n",
       "      <td>not available in demo dataset</td>\n",
       "      <td>not available in demo dataset</td>\n",
       "      <td>not available in demo dataset</td>\n",
       "      <td>unknown.unknown</td>\n",
       "      <td>not available in demo dataset</td>\n",
       "      <td>not available in demo dataset</td>\n",
       "      <td>not available in demo dataset</td>\n",
       "    </tr>\n",
       "    <tr>\n",
       "      <th>4</th>\n",
       "      <td>Organic Search</td>\n",
       "      <td>27294437909732085</td>\n",
       "      <td>27294437909732085_1472822600</td>\n",
       "      <td>Not Socially Engaged</td>\n",
       "      <td>1472822600</td>\n",
       "      <td>2</td>\n",
       "      <td>1472822600</td>\n",
       "      <td>0.0</td>\n",
       "      <td>-inf</td>\n",
       "      <td>2016</td>\n",
       "      <td>...</td>\n",
       "      <td>Northern Europe</td>\n",
       "      <td>United Kingdom</td>\n",
       "      <td>not available in demo dataset</td>\n",
       "      <td>not available in demo dataset</td>\n",
       "      <td>not available in demo dataset</td>\n",
       "      <td>not available in demo dataset</td>\n",
       "      <td>unknown.unknown</td>\n",
       "      <td>not available in demo dataset</td>\n",
       "      <td>not available in demo dataset</td>\n",
       "      <td>not available in demo dataset</td>\n",
       "    </tr>\n",
       "  </tbody>\n",
       "</table>\n",
       "<p>5 rows × 58 columns</p>\n",
       "</div>"
      ],
      "text/plain": [
       "  channelGrouping        fullVisitorId                       sessionId  \\\n",
       "0  Organic Search  1131660440785968503  1131660440785968503_1472830385   \n",
       "1  Organic Search   377306020877927890   377306020877927890_1472880147   \n",
       "2  Organic Search  3895546263509774583  3895546263509774583_1472865386   \n",
       "3  Organic Search  4763447161404445595  4763447161404445595_1472881213   \n",
       "4  Organic Search    27294437909732085    27294437909732085_1472822600   \n",
       "\n",
       "   socialEngagementType     visitId  visitNumber  visitStartTime  \\\n",
       "0  Not Socially Engaged  1472830385            1      1472830385   \n",
       "1  Not Socially Engaged  1472880147            1      1472880147   \n",
       "2  Not Socially Engaged  1472865386            1      1472865386   \n",
       "3  Not Socially Engaged  1472881213            1      1472881213   \n",
       "4  Not Socially Engaged  1472822600            2      1472822600   \n",
       "\n",
       "   transactionRevenue  transactionRevenueLog  Year  \\\n",
       "0                 0.0                   -inf  2016   \n",
       "1                 0.0                   -inf  2016   \n",
       "2                 0.0                   -inf  2016   \n",
       "3                 0.0                   -inf  2016   \n",
       "4                 0.0                   -inf  2016   \n",
       "\n",
       "               ...                   subContinent         country  \\\n",
       "0              ...                   Western Asia          Turkey   \n",
       "1              ...                    Australasia       Australia   \n",
       "2              ...                Southern Europe           Spain   \n",
       "3              ...                 Southeast Asia       Indonesia   \n",
       "4              ...                Northern Europe  United Kingdom   \n",
       "\n",
       "                          region                          metro  \\\n",
       "0                          Izmir                      (not set)   \n",
       "1  not available in demo dataset  not available in demo dataset   \n",
       "2            Community of Madrid                      (not set)   \n",
       "3  not available in demo dataset  not available in demo dataset   \n",
       "4  not available in demo dataset  not available in demo dataset   \n",
       "\n",
       "                            city                         cityId  \\\n",
       "0                          Izmir  not available in demo dataset   \n",
       "1  not available in demo dataset  not available in demo dataset   \n",
       "2                         Madrid  not available in demo dataset   \n",
       "3  not available in demo dataset  not available in demo dataset   \n",
       "4  not available in demo dataset  not available in demo dataset   \n",
       "\n",
       "     networkDomain                       latitude  \\\n",
       "0     ttnet.com.tr  not available in demo dataset   \n",
       "1      dodo.net.au  not available in demo dataset   \n",
       "2  unknown.unknown  not available in demo dataset   \n",
       "3  unknown.unknown  not available in demo dataset   \n",
       "4  unknown.unknown  not available in demo dataset   \n",
       "\n",
       "                       longitude                networkLocation  \n",
       "0  not available in demo dataset  not available in demo dataset  \n",
       "1  not available in demo dataset  not available in demo dataset  \n",
       "2  not available in demo dataset  not available in demo dataset  \n",
       "3  not available in demo dataset  not available in demo dataset  \n",
       "4  not available in demo dataset  not available in demo dataset  \n",
       "\n",
       "[5 rows x 58 columns]"
      ]
     },
     "execution_count": 53,
     "metadata": {},
     "output_type": "execute_result"
    }
   ],
   "source": [
    "without_json.head()"
   ]
  },
  {
   "cell_type": "code",
   "execution_count": 55,
   "metadata": {},
   "outputs": [],
   "source": [
    "without_json.drop(['transactionRevenueLog'], axis=1, inplace=True)"
   ]
  },
  {
   "cell_type": "code",
   "execution_count": 56,
   "metadata": {},
   "outputs": [],
   "source": [
    "train_cats(without_json)"
   ]
  },
  {
   "cell_type": "code",
   "execution_count": 57,
   "metadata": {},
   "outputs": [],
   "source": [
    "df, y, nas = proc_df(without_json, 'transactionRevenue')"
   ]
  },
  {
   "cell_type": "code",
   "execution_count": 58,
   "metadata": {},
   "outputs": [
    {
     "data": {
      "text/plain": [
       "0.7406146313106007"
      ]
     },
     "execution_count": 58,
     "metadata": {},
     "output_type": "execute_result"
    }
   ],
   "source": [
    "m = RandomForestRegressor(n_jobs=-1)\n",
    "m.fit(df, y)\n",
    "m.score(df,y)"
   ]
  },
  {
   "cell_type": "code",
   "execution_count": 59,
   "metadata": {},
   "outputs": [],
   "source": [
    "os.makedirs('tmp', exist_ok=True)\n",
    "without_json.to_feather('tmp/ga-customer-revenue-prediction')"
   ]
  },
  {
   "cell_type": "markdown",
   "metadata": {},
   "source": [
    "### Basic Model"
   ]
  },
  {
   "cell_type": "code",
   "execution_count": 19,
   "metadata": {},
   "outputs": [],
   "source": [
    "df_raw = pd.read_feather('tmp/ga-customer-revenue-prediction')"
   ]
  },
  {
   "cell_type": "code",
   "execution_count": 23,
   "metadata": {},
   "outputs": [],
   "source": [
    "df, y, nas = proc_df(df_raw, 'transactionRevenue')"
   ]
  },
  {
   "cell_type": "code",
   "execution_count": 24,
   "metadata": {},
   "outputs": [],
   "source": [
    "def rmse(x,y): return math.sqrt(((x-y)**2).mean())\n",
    "\n",
    "def print_score(m):\n",
    "    res = [rmse(m.predict(X_train), y_train), rmse(m.predict(X_valid), y_valid),\n",
    "                m.score(X_train, y_train), m.score(X_valid, y_valid)]\n",
    "    if hasattr(m, 'oob_score_'): res.append(m.oob_score_)\n",
    "    print(res)"
   ]
  },
  {
   "cell_type": "code",
   "execution_count": 25,
   "metadata": {},
   "outputs": [
    {
     "data": {
      "text/plain": [
       "((823653, 56), (823653,), (80000, 56))"
      ]
     },
     "execution_count": 25,
     "metadata": {},
     "output_type": "execute_result"
    }
   ],
   "source": [
    "def split_vals(a,n): return a[:n].copy(), a[n:].copy()\n",
    "\n",
    "n_valid = 80000  # same as Kaggle's test set size\n",
    "n_trn = len(df)-n_valid\n",
    "raw_train, raw_valid = split_vals(df_raw, n_trn)\n",
    "X_train, X_valid = split_vals(df, n_trn)\n",
    "y_train, y_valid = split_vals(y, n_trn)\n",
    "\n",
    "X_train.shape, y_train.shape, X_valid.shape"
   ]
  },
  {
   "cell_type": "code",
   "execution_count": 26,
   "metadata": {},
   "outputs": [
    {
     "name": "stdout",
     "output_type": "stream",
     "text": [
      "CPU times: user 1min 27s, sys: 468 ms, total: 1min 27s\n",
      "Wall time: 14 s\n",
      "[0.7379535570180095, 1.7448952588172841, 0.8647888927507854, 0.2160219166663736]\n"
     ]
    }
   ],
   "source": [
    "m = RandomForestRegressor(n_jobs=-1)\n",
    "%time m.fit(X_train, y_train)\n",
    "print_score(m)"
   ]
  },
  {
   "cell_type": "markdown",
   "metadata": {},
   "source": [
    "### Speeding up"
   ]
  },
  {
   "cell_type": "code",
   "execution_count": 27,
   "metadata": {},
   "outputs": [],
   "source": [
    "df_trn, y_trn, nas = proc_df(df_raw, 'transactionRevenue', subset=100000, na_dict=nas)\n",
    "X_train, _ = split_vals(df_trn, n_valid)\n",
    "y_train, _ = split_vals(y_trn, n_valid)"
   ]
  },
  {
   "cell_type": "code",
   "execution_count": 28,
   "metadata": {},
   "outputs": [
    {
     "name": "stdout",
     "output_type": "stream",
     "text": [
      "CPU times: user 4.86 s, sys: 28 ms, total: 4.89 s\n",
      "Wall time: 931 ms\n",
      "[0.7439730104834018, 1.7888535163904895, 0.8579309512231333, 0.1760236347510047]\n"
     ]
    }
   ],
   "source": [
    "m = RandomForestRegressor(n_jobs=-1)\n",
    "%time m.fit(X_train, y_train)\n",
    "print_score(m)"
   ]
  },
  {
   "cell_type": "markdown",
   "metadata": {},
   "source": [
    "### Single Tree"
   ]
  },
  {
   "cell_type": "code",
   "execution_count": 29,
   "metadata": {},
   "outputs": [
    {
     "name": "stdout",
     "output_type": "stream",
     "text": [
      "[1.7158139928171265, 1.736321840118322, 0.24434158710356446, 0.2237070310970868]\n"
     ]
    }
   ],
   "source": [
    "m = RandomForestRegressor(n_estimators=1, max_depth=3, bootstrap=False, n_jobs=-1)\n",
    "m.fit(X_train, y_train)\n",
    "print_score(m)"
   ]
  },
  {
   "cell_type": "code",
   "execution_count": 30,
   "metadata": {},
   "outputs": [
    {
     "data": {
      "image/svg+xml": [
       "<?xml version=\"1.0\" encoding=\"UTF-8\" standalone=\"no\"?>\n",
       "<!DOCTYPE svg PUBLIC \"-//W3C//DTD SVG 1.1//EN\"\n",
       " \"http://www.w3.org/Graphics/SVG/1.1/DTD/svg11.dtd\">\n",
       "<!-- Generated by graphviz version 2.38.0 (20140413.2041)\n",
       " -->\n",
       "<!-- Title: Tree Pages: 1 -->\n",
       "<svg width=\"720pt\" height=\"434pt\"\n",
       " viewBox=\"0.00 0.00 720.00 434.49\" xmlns=\"http://www.w3.org/2000/svg\" xmlns:xlink=\"http://www.w3.org/1999/xlink\">\n",
       "<g id=\"graph0\" class=\"graph\" transform=\"scale(0.778659 0.778659) rotate(0) translate(4 554)\">\n",
       "<title>Tree</title>\n",
       "<polygon fill=\"white\" stroke=\"none\" points=\"-4,4 -4,-554 920.667,-554 920.667,4 -4,4\"/>\n",
       "<!-- 0 -->\n",
       "<g id=\"node1\" class=\"node\"><title>0</title>\n",
       "<polygon fill=\"#e58139\" fill-opacity=\"0.031373\" stroke=\"black\" points=\"167.667,-308.5 23.6667,-308.5 23.6667,-240.5 167.667,-240.5 167.667,-308.5\"/>\n",
       "<text text-anchor=\"start\" x=\"31.6667\" y=\"-293.3\" font-family=\"Times,serif\" font-size=\"14.00\">pageviews ≤ 19.5</text>\n",
       "<text text-anchor=\"start\" x=\"50.1667\" y=\"-278.3\" font-family=\"Times,serif\" font-size=\"14.00\">mse = 3.896</text>\n",
       "<text text-anchor=\"start\" x=\"33.1667\" y=\"-263.3\" font-family=\"Times,serif\" font-size=\"14.00\">samples = 80000</text>\n",
       "<text text-anchor=\"start\" x=\"50.1667\" y=\"-248.3\" font-family=\"Times,serif\" font-size=\"14.00\">value = 0.22</text>\n",
       "</g>\n",
       "<!-- 1 -->\n",
       "<g id=\"node2\" class=\"node\"><title>1</title>\n",
       "<polygon fill=\"#e58139\" fill-opacity=\"0.011765\" stroke=\"black\" points=\"408.667,-361.5 264.667,-361.5 264.667,-293.5 408.667,-293.5 408.667,-361.5\"/>\n",
       "<text text-anchor=\"start\" x=\"272.667\" y=\"-346.3\" font-family=\"Times,serif\" font-size=\"14.00\">pageviews ≤ 10.5</text>\n",
       "<text text-anchor=\"start\" x=\"291.167\" y=\"-331.3\" font-family=\"Times,serif\" font-size=\"14.00\">mse = 1.454</text>\n",
       "<text text-anchor=\"start\" x=\"274.167\" y=\"-316.3\" font-family=\"Times,serif\" font-size=\"14.00\">samples = 77549</text>\n",
       "<text text-anchor=\"start\" x=\"286.667\" y=\"-301.3\" font-family=\"Times,serif\" font-size=\"14.00\">value = 0.083</text>\n",
       "</g>\n",
       "<!-- 0&#45;&gt;1 -->\n",
       "<g id=\"edge1\" class=\"edge\"><title>0&#45;&gt;1</title>\n",
       "<path fill=\"none\" stroke=\"black\" d=\"M167.727,-290.258C195.053,-296.318 226.445,-303.279 254.64,-309.532\"/>\n",
       "<polygon fill=\"black\" stroke=\"black\" points=\"253.946,-312.963 264.467,-311.711 255.462,-306.129 253.946,-312.963\"/>\n",
       "<text text-anchor=\"middle\" x=\"243.381\" y=\"-321.442\" font-family=\"Times,serif\" font-size=\"14.00\">True</text>\n",
       "</g>\n",
       "<!-- 8 -->\n",
       "<g id=\"node9\" class=\"node\"><title>8</title>\n",
       "<polygon fill=\"#e58139\" fill-opacity=\"0.694118\" stroke=\"black\" points=\"403.667,-255.5 269.667,-255.5 269.667,-187.5 403.667,-187.5 403.667,-255.5\"/>\n",
       "<text text-anchor=\"start\" x=\"277.667\" y=\"-240.3\" font-family=\"Times,serif\" font-size=\"14.00\">country ≤ 212.5</text>\n",
       "<text text-anchor=\"start\" x=\"286.667\" y=\"-225.3\" font-family=\"Times,serif\" font-size=\"14.00\">mse = 61.759</text>\n",
       "<text text-anchor=\"start\" x=\"278.667\" y=\"-210.3\" font-family=\"Times,serif\" font-size=\"14.00\">samples = 2451</text>\n",
       "<text text-anchor=\"start\" x=\"286.667\" y=\"-195.3\" font-family=\"Times,serif\" font-size=\"14.00\">value = 4.556</text>\n",
       "</g>\n",
       "<!-- 0&#45;&gt;8 -->\n",
       "<g id=\"edge8\" class=\"edge\"><title>0&#45;&gt;8</title>\n",
       "<path fill=\"none\" stroke=\"black\" d=\"M167.727,-258.742C196.655,-252.327 230.142,-244.901 259.567,-238.376\"/>\n",
       "<polygon fill=\"black\" stroke=\"black\" points=\"260.372,-241.782 269.377,-236.2 258.856,-234.948 260.372,-241.782\"/>\n",
       "<text text-anchor=\"middle\" x=\"248.291\" y=\"-219.069\" font-family=\"Times,serif\" font-size=\"14.00\">False</text>\n",
       "</g>\n",
       "<!-- 2 -->\n",
       "<g id=\"node3\" class=\"node\"><title>2</title>\n",
       "<polygon fill=\"none\" stroke=\"black\" points=\"651.167,-486.5 510.167,-486.5 510.167,-418.5 651.167,-418.5 651.167,-486.5\"/>\n",
       "<text text-anchor=\"start\" x=\"521.167\" y=\"-471.3\" font-family=\"Times,serif\" font-size=\"14.00\">pageviews ≤ 9.5</text>\n",
       "<text text-anchor=\"start\" x=\"539.667\" y=\"-456.3\" font-family=\"Times,serif\" font-size=\"14.00\">mse = 0.18</text>\n",
       "<text text-anchor=\"start\" x=\"518.167\" y=\"-441.3\" font-family=\"Times,serif\" font-size=\"14.00\">samples = 73547</text>\n",
       "<text text-anchor=\"start\" x=\"535.167\" y=\"-426.3\" font-family=\"Times,serif\" font-size=\"14.00\">value = 0.01</text>\n",
       "</g>\n",
       "<!-- 1&#45;&gt;2 -->\n",
       "<g id=\"edge2\" class=\"edge\"><title>1&#45;&gt;2</title>\n",
       "<path fill=\"none\" stroke=\"black\" d=\"M403.794,-361.657C435.006,-377.779 472.398,-397.093 504.664,-413.759\"/>\n",
       "<polygon fill=\"black\" stroke=\"black\" points=\"503.128,-416.905 513.619,-418.384 506.341,-410.686 503.128,-416.905\"/>\n",
       "</g>\n",
       "<!-- 5 -->\n",
       "<g id=\"node6\" class=\"node\"><title>5</title>\n",
       "<polygon fill=\"#e58139\" fill-opacity=\"0.215686\" stroke=\"black\" points=\"655.667,-361.5 505.667,-361.5 505.667,-293.5 655.667,-293.5 655.667,-361.5\"/>\n",
       "<text text-anchor=\"start\" x=\"513.667\" y=\"-346.3\" font-family=\"Times,serif\" font-size=\"14.00\">visitNumber ≤ 1.5</text>\n",
       "<text text-anchor=\"start\" x=\"530.667\" y=\"-331.3\" font-family=\"Times,serif\" font-size=\"14.00\">mse = 22.976</text>\n",
       "<text text-anchor=\"start\" x=\"522.667\" y=\"-316.3\" font-family=\"Times,serif\" font-size=\"14.00\">samples = 4002</text>\n",
       "<text text-anchor=\"start\" x=\"530.667\" y=\"-301.3\" font-family=\"Times,serif\" font-size=\"14.00\">value = 1.427</text>\n",
       "</g>\n",
       "<!-- 1&#45;&gt;5 -->\n",
       "<g id=\"edge5\" class=\"edge\"><title>1&#45;&gt;5</title>\n",
       "<path fill=\"none\" stroke=\"black\" d=\"M408.966,-327.5C436.035,-327.5 467.122,-327.5 495.286,-327.5\"/>\n",
       "<polygon fill=\"black\" stroke=\"black\" points=\"495.517,-331 505.517,-327.5 495.517,-324 495.517,-331\"/>\n",
       "</g>\n",
       "<!-- 3 -->\n",
       "<g id=\"node4\" class=\"node\"><title>3</title>\n",
       "<polygon fill=\"none\" stroke=\"black\" points=\"893.167,-550 752.167,-550 752.167,-497 893.167,-497 893.167,-550\"/>\n",
       "<text text-anchor=\"start\" x=\"777.167\" y=\"-534.8\" font-family=\"Times,serif\" font-size=\"14.00\">mse = 0.096</text>\n",
       "<text text-anchor=\"start\" x=\"760.167\" y=\"-519.8\" font-family=\"Times,serif\" font-size=\"14.00\">samples = 72652</text>\n",
       "<text text-anchor=\"start\" x=\"772.667\" y=\"-504.8\" font-family=\"Times,serif\" font-size=\"14.00\">value = 0.005</text>\n",
       "</g>\n",
       "<!-- 2&#45;&gt;3 -->\n",
       "<g id=\"edge3\" class=\"edge\"><title>2&#45;&gt;3</title>\n",
       "<path fill=\"none\" stroke=\"black\" d=\"M651.407,-473.132C679.757,-481.518 712.676,-491.257 741.969,-499.923\"/>\n",
       "<polygon fill=\"black\" stroke=\"black\" points=\"741.17,-503.336 751.752,-502.817 743.156,-496.624 741.17,-503.336\"/>\n",
       "</g>\n",
       "<!-- 4 -->\n",
       "<g id=\"node5\" class=\"node\"><title>4</title>\n",
       "<polygon fill=\"#e58139\" fill-opacity=\"0.062745\" stroke=\"black\" points=\"884.167,-479 761.167,-479 761.167,-426 884.167,-426 884.167,-479\"/>\n",
       "<text text-anchor=\"start\" x=\"777.167\" y=\"-463.8\" font-family=\"Times,serif\" font-size=\"14.00\">mse = 6.846</text>\n",
       "<text text-anchor=\"start\" x=\"769.167\" y=\"-448.8\" font-family=\"Times,serif\" font-size=\"14.00\">samples = 895</text>\n",
       "<text text-anchor=\"start\" x=\"772.667\" y=\"-433.8\" font-family=\"Times,serif\" font-size=\"14.00\">value = 0.405</text>\n",
       "</g>\n",
       "<!-- 2&#45;&gt;4 -->\n",
       "<g id=\"edge4\" class=\"edge\"><title>2&#45;&gt;4</title>\n",
       "<path fill=\"none\" stroke=\"black\" d=\"M651.407,-452.5C682.753,-452.5 719.683,-452.5 751.124,-452.5\"/>\n",
       "<polygon fill=\"black\" stroke=\"black\" points=\"751.125,-456 761.125,-452.5 751.124,-449 751.125,-456\"/>\n",
       "</g>\n",
       "<!-- 6 -->\n",
       "<g id=\"node7\" class=\"node\"><title>6</title>\n",
       "<polygon fill=\"#e58139\" fill-opacity=\"0.113725\" stroke=\"black\" points=\"888.667,-408 756.667,-408 756.667,-355 888.667,-355 888.667,-408\"/>\n",
       "<text text-anchor=\"start\" x=\"777.167\" y=\"-392.8\" font-family=\"Times,serif\" font-size=\"14.00\">mse = 12.57</text>\n",
       "<text text-anchor=\"start\" x=\"764.667\" y=\"-377.8\" font-family=\"Times,serif\" font-size=\"14.00\">samples = 2685</text>\n",
       "<text text-anchor=\"start\" x=\"772.667\" y=\"-362.8\" font-family=\"Times,serif\" font-size=\"14.00\">value = 0.755</text>\n",
       "</g>\n",
       "<!-- 5&#45;&gt;6 -->\n",
       "<g id=\"edge6\" class=\"edge\"><title>5&#45;&gt;6</title>\n",
       "<path fill=\"none\" stroke=\"black\" d=\"M655.961,-344.216C684.777,-350.7 717.728,-358.114 746.616,-364.614\"/>\n",
       "<polygon fill=\"black\" stroke=\"black\" points=\"746.127,-368.091 756.651,-366.872 747.663,-361.262 746.127,-368.091\"/>\n",
       "</g>\n",
       "<!-- 7 -->\n",
       "<g id=\"node8\" class=\"node\"><title>7</title>\n",
       "<polygon fill=\"#e58139\" fill-opacity=\"0.427451\" stroke=\"black\" points=\"888.667,-337 756.667,-337 756.667,-284 888.667,-284 888.667,-337\"/>\n",
       "<text text-anchor=\"start\" x=\"772.667\" y=\"-321.8\" font-family=\"Times,serif\" font-size=\"14.00\">mse = 41.396</text>\n",
       "<text text-anchor=\"start\" x=\"764.667\" y=\"-306.8\" font-family=\"Times,serif\" font-size=\"14.00\">samples = 1317</text>\n",
       "<text text-anchor=\"start\" x=\"772.667\" y=\"-291.8\" font-family=\"Times,serif\" font-size=\"14.00\">value = 2.796</text>\n",
       "</g>\n",
       "<!-- 5&#45;&gt;7 -->\n",
       "<g id=\"edge7\" class=\"edge\"><title>5&#45;&gt;7</title>\n",
       "<path fill=\"none\" stroke=\"black\" d=\"M655.961,-322.238C684.777,-320.196 717.728,-317.862 746.616,-315.816\"/>\n",
       "<polygon fill=\"black\" stroke=\"black\" points=\"746.924,-319.303 756.651,-315.105 746.429,-312.321 746.924,-319.303\"/>\n",
       "</g>\n",
       "<!-- 9 -->\n",
       "<g id=\"node10\" class=\"node\"><title>9</title>\n",
       "<polygon fill=\"#e58139\" fill-opacity=\"0.101961\" stroke=\"black\" points=\"652.667,-255.5 508.667,-255.5 508.667,-187.5 652.667,-187.5 652.667,-255.5\"/>\n",
       "<text text-anchor=\"start\" x=\"516.667\" y=\"-240.3\" font-family=\"Times,serif\" font-size=\"14.00\">pageviews ≤ 44.5</text>\n",
       "<text text-anchor=\"start\" x=\"530.667\" y=\"-225.3\" font-family=\"Times,serif\" font-size=\"14.00\">mse = 12.007</text>\n",
       "<text text-anchor=\"start\" x=\"527.167\" y=\"-210.3\" font-family=\"Times,serif\" font-size=\"14.00\">samples = 620</text>\n",
       "<text text-anchor=\"start\" x=\"530.667\" y=\"-195.3\" font-family=\"Times,serif\" font-size=\"14.00\">value = 0.678</text>\n",
       "</g>\n",
       "<!-- 8&#45;&gt;9 -->\n",
       "<g id=\"edge9\" class=\"edge\"><title>8&#45;&gt;9</title>\n",
       "<path fill=\"none\" stroke=\"black\" d=\"M403.794,-221.5C432.964,-221.5 467.532,-221.5 498.267,-221.5\"/>\n",
       "<polygon fill=\"black\" stroke=\"black\" points=\"498.531,-225 508.531,-221.5 498.531,-218 498.531,-225\"/>\n",
       "</g>\n",
       "<!-- 12 -->\n",
       "<g id=\"node13\" class=\"node\"><title>12</title>\n",
       "<polygon fill=\"#e58139\" fill-opacity=\"0.898039\" stroke=\"black\" points=\"646.667,-131.5 514.667,-131.5 514.667,-63.5 646.667,-63.5 646.667,-131.5\"/>\n",
       "<text text-anchor=\"start\" x=\"527.667\" y=\"-116.3\" font-family=\"Times,serif\" font-size=\"14.00\">isMobile ≤ 1.5</text>\n",
       "<text text-anchor=\"start\" x=\"530.667\" y=\"-101.3\" font-family=\"Times,serif\" font-size=\"14.00\">mse = 71.791</text>\n",
       "<text text-anchor=\"start\" x=\"522.667\" y=\"-86.3\" font-family=\"Times,serif\" font-size=\"14.00\">samples = 1831</text>\n",
       "<text text-anchor=\"start\" x=\"530.667\" y=\"-71.3\" font-family=\"Times,serif\" font-size=\"14.00\">value = 5.869</text>\n",
       "</g>\n",
       "<!-- 8&#45;&gt;12 -->\n",
       "<g id=\"edge12\" class=\"edge\"><title>8&#45;&gt;12</title>\n",
       "<path fill=\"none\" stroke=\"black\" d=\"M403.794,-187.616C435.262,-171.492 473.012,-152.15 505.456,-135.525\"/>\n",
       "<polygon fill=\"black\" stroke=\"black\" points=\"507.153,-138.588 514.457,-130.913 503.961,-132.359 507.153,-138.588\"/>\n",
       "</g>\n",
       "<!-- 10 -->\n",
       "<g id=\"node11\" class=\"node\"><title>10</title>\n",
       "<polygon fill=\"#e58139\" fill-opacity=\"0.058824\" stroke=\"black\" points=\"884.167,-266 761.167,-266 761.167,-213 884.167,-213 884.167,-266\"/>\n",
       "<text text-anchor=\"start\" x=\"777.167\" y=\"-250.8\" font-family=\"Times,serif\" font-size=\"14.00\">mse = 6.862</text>\n",
       "<text text-anchor=\"start\" x=\"769.167\" y=\"-235.8\" font-family=\"Times,serif\" font-size=\"14.00\">samples = 553</text>\n",
       "<text text-anchor=\"start\" x=\"772.667\" y=\"-220.8\" font-family=\"Times,serif\" font-size=\"14.00\">value = 0.389</text>\n",
       "</g>\n",
       "<!-- 9&#45;&gt;10 -->\n",
       "<g id=\"edge10\" class=\"edge\"><title>9&#45;&gt;10</title>\n",
       "<path fill=\"none\" stroke=\"black\" d=\"M652.7,-226.828C683.622,-229.147 719.78,-231.859 750.695,-234.177\"/>\n",
       "<polygon fill=\"black\" stroke=\"black\" points=\"750.73,-237.689 760.963,-234.947 751.253,-230.709 750.73,-237.689\"/>\n",
       "</g>\n",
       "<!-- 11 -->\n",
       "<g id=\"node12\" class=\"node\"><title>11</title>\n",
       "<polygon fill=\"#e58139\" fill-opacity=\"0.466667\" stroke=\"black\" points=\"880.667,-195 764.667,-195 764.667,-142 880.667,-142 880.667,-195\"/>\n",
       "<text text-anchor=\"start\" x=\"772.667\" y=\"-179.8\" font-family=\"Times,serif\" font-size=\"14.00\">mse = 48.079</text>\n",
       "<text text-anchor=\"start\" x=\"773.667\" y=\"-164.8\" font-family=\"Times,serif\" font-size=\"14.00\">samples = 67</text>\n",
       "<text text-anchor=\"start\" x=\"772.667\" y=\"-149.8\" font-family=\"Times,serif\" font-size=\"14.00\">value = 3.066</text>\n",
       "</g>\n",
       "<!-- 9&#45;&gt;11 -->\n",
       "<g id=\"edge11\" class=\"edge\"><title>9&#45;&gt;11</title>\n",
       "<path fill=\"none\" stroke=\"black\" d=\"M652.7,-205.813C684.879,-198.707 722.729,-190.349 754.439,-183.346\"/>\n",
       "<polygon fill=\"black\" stroke=\"black\" points=\"755.493,-186.698 764.503,-181.124 753.984,-179.862 755.493,-186.698\"/>\n",
       "</g>\n",
       "<!-- 13 -->\n",
       "<g id=\"node14\" class=\"node\"><title>13</title>\n",
       "<polygon fill=\"#e58139\" stroke=\"black\" points=\"888.667,-124 756.667,-124 756.667,-71 888.667,-71 888.667,-124\"/>\n",
       "<text text-anchor=\"start\" x=\"772.667\" y=\"-108.8\" font-family=\"Times,serif\" font-size=\"14.00\">mse = 75.929</text>\n",
       "<text text-anchor=\"start\" x=\"764.667\" y=\"-93.8\" font-family=\"Times,serif\" font-size=\"14.00\">samples = 1529</text>\n",
       "<text text-anchor=\"start\" x=\"772.667\" y=\"-78.8\" font-family=\"Times,serif\" font-size=\"14.00\">value = 6.548</text>\n",
       "</g>\n",
       "<!-- 12&#45;&gt;13 -->\n",
       "<g id=\"edge13\" class=\"edge\"><title>12&#45;&gt;13</title>\n",
       "<path fill=\"none\" stroke=\"black\" d=\"M646.931,-97.5C677.617,-97.5 714.381,-97.5 746.253,-97.5\"/>\n",
       "<polygon fill=\"black\" stroke=\"black\" points=\"746.416,-101 756.416,-97.5 746.416,-94.0001 746.416,-101\"/>\n",
       "</g>\n",
       "<!-- 14 -->\n",
       "<g id=\"node15\" class=\"node\"><title>14</title>\n",
       "<polygon fill=\"#e58139\" fill-opacity=\"0.368627\" stroke=\"black\" points=\"884.167,-53 761.167,-53 761.167,-0 884.167,-0 884.167,-53\"/>\n",
       "<text text-anchor=\"start\" x=\"772.667\" y=\"-37.8\" font-family=\"Times,serif\" font-size=\"14.00\">mse = 36.665</text>\n",
       "<text text-anchor=\"start\" x=\"769.167\" y=\"-22.8\" font-family=\"Times,serif\" font-size=\"14.00\">samples = 302</text>\n",
       "<text text-anchor=\"start\" x=\"772.667\" y=\"-7.8\" font-family=\"Times,serif\" font-size=\"14.00\">value = 2.428</text>\n",
       "</g>\n",
       "<!-- 12&#45;&gt;14 -->\n",
       "<g id=\"edge14\" class=\"edge\"><title>12&#45;&gt;14</title>\n",
       "<path fill=\"none\" stroke=\"black\" d=\"M646.931,-78.1927C679.134,-68.666 718.03,-57.1592 750.942,-47.4228\"/>\n",
       "<polygon fill=\"black\" stroke=\"black\" points=\"752.353,-50.6553 760.949,-44.4622 750.367,-43.9428 752.353,-50.6553\"/>\n",
       "</g>\n",
       "</g>\n",
       "</svg>\n"
      ],
      "text/plain": [
       "<graphviz.files.Source at 0x7f52a0a8fb38>"
      ]
     },
     "metadata": {},
     "output_type": "display_data"
    }
   ],
   "source": [
    "draw_tree(m.estimators_[0], df_trn, precision=3)"
   ]
  },
  {
   "cell_type": "code",
   "execution_count": 31,
   "metadata": {},
   "outputs": [
    {
     "name": "stdout",
     "output_type": "stream",
     "text": [
      "[4.926943218476052e-07, 2.420263524246657, 0.9999999999999376, -0.5083096438937176]\n"
     ]
    }
   ],
   "source": [
    "m = RandomForestRegressor(n_estimators=1, bootstrap=False, n_jobs=-1)\n",
    "m.fit(X_train, y_train)\n",
    "print_score(m)"
   ]
  },
  {
   "cell_type": "markdown",
   "metadata": {},
   "source": [
    "### Bagging"
   ]
  },
  {
   "cell_type": "code",
   "execution_count": 32,
   "metadata": {},
   "outputs": [
    {
     "name": "stdout",
     "output_type": "stream",
     "text": [
      "[0.7350160790428573, 1.791580692901914, 0.8613311893397028, 0.17350935184713823]\n"
     ]
    }
   ],
   "source": [
    "m = RandomForestRegressor(n_jobs=-1)\n",
    "m.fit(X_train, y_train)\n",
    "print_score(m)"
   ]
  },
  {
   "cell_type": "code",
   "execution_count": 33,
   "metadata": {},
   "outputs": [
    {
     "data": {
      "text/plain": [
       "(array([0., 0., 0., 0., 0., 0., 0., 0., 0., 0.]), 0.0, 0.0)"
      ]
     },
     "execution_count": 33,
     "metadata": {},
     "output_type": "execute_result"
    }
   ],
   "source": [
    "preds = np.stack([t.predict(X_valid) for t in m.estimators_])\n",
    "preds[:,0], np.mean(preds[:,0]), y_valid[0]"
   ]
  },
  {
   "cell_type": "code",
   "execution_count": 34,
   "metadata": {},
   "outputs": [
    {
     "data": {
      "text/plain": [
       "(10, 80000)"
      ]
     },
     "execution_count": 34,
     "metadata": {},
     "output_type": "execute_result"
    }
   ],
   "source": [
    "preds.shape"
   ]
  },
  {
   "cell_type": "code",
   "execution_count": 35,
   "metadata": {},
   "outputs": [
    {
     "data": {
      "image/png": "[encoded data removed]",
      "text/plain": [
       "<Figure size 432x288 with 1 Axes>"
      ]
     },
     "metadata": {},
     "output_type": "display_data"
    }
   ],
   "source": [
    "plt.plot([metrics.r2_score(y_valid, np.mean(preds[:i+1], axis=0)) for i in range(10)]);"
   ]
  },
  {
   "cell_type": "code",
   "execution_count": 36,
   "metadata": {},
   "outputs": [
    {
     "name": "stdout",
     "output_type": "stream",
     "text": [
      "[0.6847283175886417, 1.744840869461989, 0.8796567629802039, 0.216070789970081]\n"
     ]
    }
   ],
   "source": [
    "m = RandomForestRegressor(n_estimators=20, n_jobs=-1)\n",
    "m.fit(X_train, y_train)\n",
    "print_score(m)"
   ]
  },
  {
   "cell_type": "code",
   "execution_count": 37,
   "metadata": {},
   "outputs": [
    {
     "name": "stdout",
     "output_type": "stream",
     "text": [
      "[0.6511138364987727, 1.7165546167063903, 0.8911824458746241, 0.24128189242933107]\n"
     ]
    }
   ],
   "source": [
    "m = RandomForestRegressor(n_estimators=40, n_jobs=-1)\n",
    "m.fit(X_train, y_train)\n",
    "print_score(m)"
   ]
  },
  {
   "cell_type": "code",
   "execution_count": 38,
   "metadata": {},
   "outputs": [
    {
     "name": "stdout",
     "output_type": "stream",
     "text": [
      "[0.636997679272665, 1.7043012195621763, 0.895849631358601, 0.25207524785330915]\n"
     ]
    }
   ],
   "source": [
    "m = RandomForestRegressor(n_estimators=80, n_jobs=-1)\n",
    "m.fit(X_train, y_train)\n",
    "print_score(m)"
   ]
  },
  {
   "cell_type": "markdown",
   "metadata": {},
   "source": [
    "### Out of bag"
   ]
  },
  {
   "cell_type": "code",
   "execution_count": 39,
   "metadata": {},
   "outputs": [
    {
     "name": "stdout",
     "output_type": "stream",
     "text": [
      "[0.6502929793942163, 1.7282295804756826, 0.8914566448007545, 0.2309261137957308, 0.2215245978012541]\n"
     ]
    }
   ],
   "source": [
    "m = RandomForestRegressor(n_estimators=40, n_jobs=-1, oob_score=True)\n",
    "m.fit(X_train, y_train)\n",
    "print_score(m)"
   ]
  },
  {
   "cell_type": "markdown",
   "metadata": {},
   "source": [
    "### Subsampling"
   ]
  },
  {
   "cell_type": "code",
   "execution_count": 40,
   "metadata": {},
   "outputs": [],
   "source": [
    "df_trn, y_trn, nas = proc_df(df_raw, 'transactionRevenue')\n",
    "X_train, X_valid = split_vals(df_trn, n_trn)\n",
    "y_train, y_valid = split_vals(y_trn, n_trn)"
   ]
  },
  {
   "cell_type": "code",
   "execution_count": 41,
   "metadata": {},
   "outputs": [],
   "source": [
    "set_rf_samples(n_valid)"
   ]
  },
  {
   "cell_type": "code",
   "execution_count": 42,
   "metadata": {},
   "outputs": [
    {
     "name": "stdout",
     "output_type": "stream",
     "text": [
      "CPU times: user 35.1 s, sys: 2.05 s, total: 37.1 s\n",
      "Wall time: 7.44 s\n",
      "[1.595635019315136, 1.745809241731702, 0.36784813033675984, 0.2152004000352582, 0.23586269550886696]\n"
     ]
    }
   ],
   "source": [
    "m = RandomForestRegressor(n_jobs=-1, oob_score=True)\n",
    "%time m.fit(X_train, y_train)\n",
    "print_score(m)"
   ]
  },
  {
   "cell_type": "code",
   "execution_count": 43,
   "metadata": {},
   "outputs": [
    {
     "name": "stdout",
     "output_type": "stream",
     "text": [
      "[1.52076702949755, 1.671059937344488, 0.4257781881875925, 0.2809662903070582, 0.304687184335809]\n"
     ]
    }
   ],
   "source": [
    "m = RandomForestRegressor(n_estimators=40, n_jobs=-1, oob_score=True)\n",
    "m.fit(X_train, y_train)\n",
    "print_score(m)"
   ]
  },
  {
   "cell_type": "markdown",
   "metadata": {},
   "source": [
    "### Parameter tuning"
   ]
  },
  {
   "cell_type": "code",
   "execution_count": 44,
   "metadata": {},
   "outputs": [],
   "source": [
    "reset_rf_samples()"
   ]
  },
  {
   "cell_type": "code",
   "execution_count": 45,
   "metadata": {},
   "outputs": [],
   "source": [
    "def dectree_max_depth(tree):\n",
    "    children_left = tree.children_left\n",
    "    children_right = tree.children_right\n",
    "\n",
    "    def walk(node_id):\n",
    "        if (children_left[node_id] != children_right[node_id]):\n",
    "            left_max = 1 + walk(children_left[node_id])\n",
    "            right_max = 1 + walk(children_right[node_id])\n",
    "            return max(left_max, right_max)\n",
    "        else: # leaf\n",
    "            return 1\n",
    "\n",
    "    root_node_id = 0\n",
    "    return walk(root_node_id)"
   ]
  },
  {
   "cell_type": "code",
   "execution_count": 46,
   "metadata": {},
   "outputs": [
    {
     "name": "stdout",
     "output_type": "stream",
     "text": [
      "[0.6449926541113775, 1.6868809928988373, 0.8967086757684744, 0.2672866806741945, 0.2656130097155672]\n"
     ]
    }
   ],
   "source": [
    "m = RandomForestRegressor(n_estimators=40, n_jobs=-1, oob_score=True)\n",
    "m.fit(X_train, y_train)\n",
    "print_score(m)"
   ]
  },
  {
   "cell_type": "code",
   "execution_count": 47,
   "metadata": {},
   "outputs": [],
   "source": [
    "t=m.estimators_[0].tree_"
   ]
  },
  {
   "cell_type": "code",
   "execution_count": 48,
   "metadata": {},
   "outputs": [
    {
     "data": {
      "text/plain": [
       "36"
      ]
     },
     "execution_count": 48,
     "metadata": {},
     "output_type": "execute_result"
    }
   ],
   "source": [
    "dectree_max_depth(t)"
   ]
  },
  {
   "cell_type": "code",
   "execution_count": 49,
   "metadata": {},
   "outputs": [
    {
     "name": "stdout",
     "output_type": "stream",
     "text": [
      "[1.1699883498159842, 1.6558687314302247, 0.6601264381334175, 0.29397999467556235, 0.3086481483893797]\n"
     ]
    }
   ],
   "source": [
    "m = RandomForestRegressor(n_estimators=40, min_samples_leaf=5, n_jobs=-1, oob_score=True)\n",
    "m.fit(X_train, y_train)\n",
    "print_score(m)"
   ]
  },
  {
   "cell_type": "code",
   "execution_count": 50,
   "metadata": {},
   "outputs": [],
   "source": [
    "t=m.estimators_[0].tree_"
   ]
  },
  {
   "cell_type": "code",
   "execution_count": 51,
   "metadata": {},
   "outputs": [
    {
     "data": {
      "text/plain": [
       "28"
      ]
     },
     "execution_count": 51,
     "metadata": {},
     "output_type": "execute_result"
    }
   ],
   "source": [
    "dectree_max_depth(t)"
   ]
  },
  {
   "cell_type": "code",
   "execution_count": 52,
   "metadata": {},
   "outputs": [
    {
     "name": "stdout",
     "output_type": "stream",
     "text": [
      "[0.9985730134876433, 1.6677961394313956, 0.7524209121944438, 0.283772280546422, 0.29632709930838574]\n"
     ]
    }
   ],
   "source": [
    "m = RandomForestRegressor(n_estimators=40, min_samples_leaf=3, n_jobs=-1, oob_score=True)\n",
    "m.fit(X_train, y_train)\n",
    "print_score(m)"
   ]
  },
  {
   "cell_type": "markdown",
   "metadata": {},
   "source": [
    "#### subsampling columns / features"
   ]
  },
  {
   "cell_type": "code",
   "execution_count": 53,
   "metadata": {},
   "outputs": [
    {
     "name": "stdout",
     "output_type": "stream",
     "text": [
      "[1.0257771899245578, 1.6522121782015962, 0.7387475431080445, 0.2970946731363936, 0.29950440293866754]\n"
     ]
    }
   ],
   "source": [
    "m = RandomForestRegressor(n_estimators=40, min_samples_leaf=3, max_features=0.5, n_jobs=-1, oob_score=True)\n",
    "m.fit(X_train, y_train)\n",
    "print_score(m)"
   ]
  },
  {
   "cell_type": "code",
   "execution_count": null,
   "metadata": {},
   "outputs": [],
   "source": []
  }
 ],
 "metadata": {
  "kernelspec": {
   "display_name": "Python 3",
   "language": "python",
   "name": "python3"
  },
  "language_info": {
   "codemirror_mode": {
    "name": "ipython",
    "version": 3
   },
   "file_extension": ".py",
   "mimetype": "text/x-python",
   "name": "python",
   "nbconvert_exporter": "python",
   "pygments_lexer": "ipython3",
   "version": "3.6.5"
  }
 },
 "nbformat": 4,
 "nbformat_minor": 2
}
